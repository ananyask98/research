{
 "cells": [
  {
   "cell_type": "code",
   "execution_count": 32,
   "id": "54fb232a",
   "metadata": {},
   "outputs": [],
   "source": [
    "import warnings\n",
    "warnings.filterwarnings(\"ignore\")\n",
    "import pandas as pd\n",
    "import numpy as np\n",
    "import matplotlib.pyplot as plt\n",
    "import statsmodels.formula.api as smf"
   ]
  },
  {
   "cell_type": "code",
   "execution_count": 33,
   "id": "6ee8bf99",
   "metadata": {},
   "outputs": [],
   "source": [
    "import seaborn as sns\n",
    "import pingouin as pg\n",
    "import statsmodels.api as sm\n",
    "from statsmodels.formula.api import ols"
   ]
  },
  {
   "cell_type": "code",
   "execution_count": 34,
   "id": "52485eaf",
   "metadata": {},
   "outputs": [
    {
     "data": {
      "text/html": [
       "<div>\n",
       "<style scoped>\n",
       "    .dataframe tbody tr th:only-of-type {\n",
       "        vertical-align: middle;\n",
       "    }\n",
       "\n",
       "    .dataframe tbody tr th {\n",
       "        vertical-align: top;\n",
       "    }\n",
       "\n",
       "    .dataframe thead th {\n",
       "        text-align: right;\n",
       "    }\n",
       "</style>\n",
       "<table border=\"1\" class=\"dataframe\">\n",
       "  <thead>\n",
       "    <tr style=\"text-align: right;\">\n",
       "      <th></th>\n",
       "      <th>Unnamed: 0</th>\n",
       "      <th>StartDate</th>\n",
       "      <th>EndDate</th>\n",
       "      <th>Status</th>\n",
       "      <th>IPAddress</th>\n",
       "      <th>Progress</th>\n",
       "      <th>Duration (in seconds)</th>\n",
       "      <th>Finished</th>\n",
       "      <th>RecordedDate</th>\n",
       "      <th>ResponseId</th>\n",
       "      <th>...</th>\n",
       "      <th>oComma</th>\n",
       "      <th>oColon</th>\n",
       "      <th>oSemiC</th>\n",
       "      <th>oQMark</th>\n",
       "      <th>oExclam</th>\n",
       "      <th>oDash</th>\n",
       "      <th>oQuote</th>\n",
       "      <th>oApostro</th>\n",
       "      <th>oParenth</th>\n",
       "      <th>oOtherP</th>\n",
       "    </tr>\n",
       "  </thead>\n",
       "  <tbody>\n",
       "    <tr>\n",
       "      <th>0</th>\n",
       "      <td>0</td>\n",
       "      <td>9/30/22 10:11</td>\n",
       "      <td>9/30/22 10:21</td>\n",
       "      <td>0.0</td>\n",
       "      <td>50.106.190.120</td>\n",
       "      <td>100.0</td>\n",
       "      <td>623.0</td>\n",
       "      <td>1.0</td>\n",
       "      <td>9/30/22 10:21</td>\n",
       "      <td>R_1Cx1acc5MvVR4M8</td>\n",
       "      <td>...</td>\n",
       "      <td>0.0</td>\n",
       "      <td>0.0</td>\n",
       "      <td>0.0</td>\n",
       "      <td>0.0</td>\n",
       "      <td>0.0</td>\n",
       "      <td>0.0</td>\n",
       "      <td>0.0</td>\n",
       "      <td>0.0</td>\n",
       "      <td>0.0</td>\n",
       "      <td>0.0</td>\n",
       "    </tr>\n",
       "    <tr>\n",
       "      <th>1</th>\n",
       "      <td>1</td>\n",
       "      <td>9/30/22 10:12</td>\n",
       "      <td>9/30/22 10:28</td>\n",
       "      <td>0.0</td>\n",
       "      <td>88.98.219.163</td>\n",
       "      <td>100.0</td>\n",
       "      <td>933.0</td>\n",
       "      <td>1.0</td>\n",
       "      <td>9/30/22 10:28</td>\n",
       "      <td>R_uw7YbT7VGayFj2x</td>\n",
       "      <td>...</td>\n",
       "      <td>0.0</td>\n",
       "      <td>0.0</td>\n",
       "      <td>0.0</td>\n",
       "      <td>0.0</td>\n",
       "      <td>0.0</td>\n",
       "      <td>0.0</td>\n",
       "      <td>0.0</td>\n",
       "      <td>0.0</td>\n",
       "      <td>0.0</td>\n",
       "      <td>0.0</td>\n",
       "    </tr>\n",
       "    <tr>\n",
       "      <th>2</th>\n",
       "      <td>2</td>\n",
       "      <td>9/30/22 10:14</td>\n",
       "      <td>9/30/22 10:31</td>\n",
       "      <td>0.0</td>\n",
       "      <td>82.33.80.14</td>\n",
       "      <td>100.0</td>\n",
       "      <td>1032.0</td>\n",
       "      <td>1.0</td>\n",
       "      <td>9/30/22 10:31</td>\n",
       "      <td>R_3kIfUCpth5Qwugc</td>\n",
       "      <td>...</td>\n",
       "      <td>0.0</td>\n",
       "      <td>0.0</td>\n",
       "      <td>0.0</td>\n",
       "      <td>0.0</td>\n",
       "      <td>0.0</td>\n",
       "      <td>0.0</td>\n",
       "      <td>0.0</td>\n",
       "      <td>0.0</td>\n",
       "      <td>0.0</td>\n",
       "      <td>0.0</td>\n",
       "    </tr>\n",
       "    <tr>\n",
       "      <th>3</th>\n",
       "      <td>3</td>\n",
       "      <td>9/30/22 10:13</td>\n",
       "      <td>9/30/22 10:32</td>\n",
       "      <td>0.0</td>\n",
       "      <td>51.6.82.161</td>\n",
       "      <td>100.0</td>\n",
       "      <td>1176.0</td>\n",
       "      <td>1.0</td>\n",
       "      <td>9/30/22 10:32</td>\n",
       "      <td>R_3jVSNHQSFoZBw3S</td>\n",
       "      <td>...</td>\n",
       "      <td>0.0</td>\n",
       "      <td>0.0</td>\n",
       "      <td>0.0</td>\n",
       "      <td>0.0</td>\n",
       "      <td>0.0</td>\n",
       "      <td>0.0</td>\n",
       "      <td>0.0</td>\n",
       "      <td>0.0</td>\n",
       "      <td>0.0</td>\n",
       "      <td>0.0</td>\n",
       "    </tr>\n",
       "    <tr>\n",
       "      <th>4</th>\n",
       "      <td>4</td>\n",
       "      <td>9/30/22 10:24</td>\n",
       "      <td>9/30/22 10:37</td>\n",
       "      <td>0.0</td>\n",
       "      <td>82.43.144.167</td>\n",
       "      <td>100.0</td>\n",
       "      <td>786.0</td>\n",
       "      <td>1.0</td>\n",
       "      <td>9/30/22 10:37</td>\n",
       "      <td>R_1IF1GNFhUjPkjmW</td>\n",
       "      <td>...</td>\n",
       "      <td>0.0</td>\n",
       "      <td>0.0</td>\n",
       "      <td>0.0</td>\n",
       "      <td>0.0</td>\n",
       "      <td>0.0</td>\n",
       "      <td>0.0</td>\n",
       "      <td>0.0</td>\n",
       "      <td>0.0</td>\n",
       "      <td>0.0</td>\n",
       "      <td>0.0</td>\n",
       "    </tr>\n",
       "    <tr>\n",
       "      <th>...</th>\n",
       "      <td>...</td>\n",
       "      <td>...</td>\n",
       "      <td>...</td>\n",
       "      <td>...</td>\n",
       "      <td>...</td>\n",
       "      <td>...</td>\n",
       "      <td>...</td>\n",
       "      <td>...</td>\n",
       "      <td>...</td>\n",
       "      <td>...</td>\n",
       "      <td>...</td>\n",
       "      <td>...</td>\n",
       "      <td>...</td>\n",
       "      <td>...</td>\n",
       "      <td>...</td>\n",
       "      <td>...</td>\n",
       "      <td>...</td>\n",
       "      <td>...</td>\n",
       "      <td>...</td>\n",
       "      <td>...</td>\n",
       "      <td>...</td>\n",
       "    </tr>\n",
       "    <tr>\n",
       "      <th>236</th>\n",
       "      <td>236</td>\n",
       "      <td>NaN</td>\n",
       "      <td>NaN</td>\n",
       "      <td>NaN</td>\n",
       "      <td>NaN</td>\n",
       "      <td>NaN</td>\n",
       "      <td>NaN</td>\n",
       "      <td>NaN</td>\n",
       "      <td>NaN</td>\n",
       "      <td>NaN</td>\n",
       "      <td>...</td>\n",
       "      <td>NaN</td>\n",
       "      <td>NaN</td>\n",
       "      <td>NaN</td>\n",
       "      <td>NaN</td>\n",
       "      <td>NaN</td>\n",
       "      <td>NaN</td>\n",
       "      <td>NaN</td>\n",
       "      <td>NaN</td>\n",
       "      <td>NaN</td>\n",
       "      <td>NaN</td>\n",
       "    </tr>\n",
       "    <tr>\n",
       "      <th>237</th>\n",
       "      <td>237</td>\n",
       "      <td>NaN</td>\n",
       "      <td>NaN</td>\n",
       "      <td>NaN</td>\n",
       "      <td>NaN</td>\n",
       "      <td>NaN</td>\n",
       "      <td>NaN</td>\n",
       "      <td>NaN</td>\n",
       "      <td>NaN</td>\n",
       "      <td>NaN</td>\n",
       "      <td>...</td>\n",
       "      <td>NaN</td>\n",
       "      <td>NaN</td>\n",
       "      <td>NaN</td>\n",
       "      <td>NaN</td>\n",
       "      <td>NaN</td>\n",
       "      <td>NaN</td>\n",
       "      <td>NaN</td>\n",
       "      <td>NaN</td>\n",
       "      <td>NaN</td>\n",
       "      <td>NaN</td>\n",
       "    </tr>\n",
       "    <tr>\n",
       "      <th>238</th>\n",
       "      <td>238</td>\n",
       "      <td>NaN</td>\n",
       "      <td>NaN</td>\n",
       "      <td>NaN</td>\n",
       "      <td>NaN</td>\n",
       "      <td>NaN</td>\n",
       "      <td>NaN</td>\n",
       "      <td>NaN</td>\n",
       "      <td>NaN</td>\n",
       "      <td>NaN</td>\n",
       "      <td>...</td>\n",
       "      <td>NaN</td>\n",
       "      <td>NaN</td>\n",
       "      <td>NaN</td>\n",
       "      <td>NaN</td>\n",
       "      <td>NaN</td>\n",
       "      <td>NaN</td>\n",
       "      <td>NaN</td>\n",
       "      <td>NaN</td>\n",
       "      <td>NaN</td>\n",
       "      <td>NaN</td>\n",
       "    </tr>\n",
       "    <tr>\n",
       "      <th>239</th>\n",
       "      <td>239</td>\n",
       "      <td>NaN</td>\n",
       "      <td>NaN</td>\n",
       "      <td>NaN</td>\n",
       "      <td>NaN</td>\n",
       "      <td>NaN</td>\n",
       "      <td>NaN</td>\n",
       "      <td>NaN</td>\n",
       "      <td>NaN</td>\n",
       "      <td>NaN</td>\n",
       "      <td>...</td>\n",
       "      <td>NaN</td>\n",
       "      <td>NaN</td>\n",
       "      <td>NaN</td>\n",
       "      <td>NaN</td>\n",
       "      <td>NaN</td>\n",
       "      <td>NaN</td>\n",
       "      <td>NaN</td>\n",
       "      <td>NaN</td>\n",
       "      <td>NaN</td>\n",
       "      <td>NaN</td>\n",
       "    </tr>\n",
       "    <tr>\n",
       "      <th>240</th>\n",
       "      <td>240</td>\n",
       "      <td>NaN</td>\n",
       "      <td>NaN</td>\n",
       "      <td>NaN</td>\n",
       "      <td>NaN</td>\n",
       "      <td>NaN</td>\n",
       "      <td>NaN</td>\n",
       "      <td>NaN</td>\n",
       "      <td>NaN</td>\n",
       "      <td>NaN</td>\n",
       "      <td>...</td>\n",
       "      <td>NaN</td>\n",
       "      <td>NaN</td>\n",
       "      <td>NaN</td>\n",
       "      <td>NaN</td>\n",
       "      <td>NaN</td>\n",
       "      <td>NaN</td>\n",
       "      <td>NaN</td>\n",
       "      <td>NaN</td>\n",
       "      <td>NaN</td>\n",
       "      <td>NaN</td>\n",
       "    </tr>\n",
       "  </tbody>\n",
       "</table>\n",
       "<p>241 rows × 674 columns</p>\n",
       "</div>"
      ],
      "text/plain": [
       "     Unnamed: 0      StartDate        EndDate  Status       IPAddress  \\\n",
       "0             0  9/30/22 10:11  9/30/22 10:21     0.0  50.106.190.120   \n",
       "1             1  9/30/22 10:12  9/30/22 10:28     0.0   88.98.219.163   \n",
       "2             2  9/30/22 10:14  9/30/22 10:31     0.0     82.33.80.14   \n",
       "3             3  9/30/22 10:13  9/30/22 10:32     0.0     51.6.82.161   \n",
       "4             4  9/30/22 10:24  9/30/22 10:37     0.0   82.43.144.167   \n",
       "..          ...            ...            ...     ...             ...   \n",
       "236         236            NaN            NaN     NaN             NaN   \n",
       "237         237            NaN            NaN     NaN             NaN   \n",
       "238         238            NaN            NaN     NaN             NaN   \n",
       "239         239            NaN            NaN     NaN             NaN   \n",
       "240         240            NaN            NaN     NaN             NaN   \n",
       "\n",
       "     Progress  Duration (in seconds)  Finished   RecordedDate  \\\n",
       "0       100.0                  623.0       1.0  9/30/22 10:21   \n",
       "1       100.0                  933.0       1.0  9/30/22 10:28   \n",
       "2       100.0                 1032.0       1.0  9/30/22 10:31   \n",
       "3       100.0                 1176.0       1.0  9/30/22 10:32   \n",
       "4       100.0                  786.0       1.0  9/30/22 10:37   \n",
       "..        ...                    ...       ...            ...   \n",
       "236       NaN                    NaN       NaN            NaN   \n",
       "237       NaN                    NaN       NaN            NaN   \n",
       "238       NaN                    NaN       NaN            NaN   \n",
       "239       NaN                    NaN       NaN            NaN   \n",
       "240       NaN                    NaN       NaN            NaN   \n",
       "\n",
       "            ResponseId  ...  oComma  oColon  oSemiC oQMark oExclam  oDash  \\\n",
       "0    R_1Cx1acc5MvVR4M8  ...     0.0     0.0     0.0    0.0     0.0    0.0   \n",
       "1    R_uw7YbT7VGayFj2x  ...     0.0     0.0     0.0    0.0     0.0    0.0   \n",
       "2    R_3kIfUCpth5Qwugc  ...     0.0     0.0     0.0    0.0     0.0    0.0   \n",
       "3    R_3jVSNHQSFoZBw3S  ...     0.0     0.0     0.0    0.0     0.0    0.0   \n",
       "4    R_1IF1GNFhUjPkjmW  ...     0.0     0.0     0.0    0.0     0.0    0.0   \n",
       "..                 ...  ...     ...     ...     ...    ...     ...    ...   \n",
       "236                NaN  ...     NaN     NaN     NaN    NaN     NaN    NaN   \n",
       "237                NaN  ...     NaN     NaN     NaN    NaN     NaN    NaN   \n",
       "238                NaN  ...     NaN     NaN     NaN    NaN     NaN    NaN   \n",
       "239                NaN  ...     NaN     NaN     NaN    NaN     NaN    NaN   \n",
       "240                NaN  ...     NaN     NaN     NaN    NaN     NaN    NaN   \n",
       "\n",
       "    oQuote  oApostro  oParenth  oOtherP  \n",
       "0      0.0       0.0       0.0      0.0  \n",
       "1      0.0       0.0       0.0      0.0  \n",
       "2      0.0       0.0       0.0      0.0  \n",
       "3      0.0       0.0       0.0      0.0  \n",
       "4      0.0       0.0       0.0      0.0  \n",
       "..     ...       ...       ...      ...  \n",
       "236    NaN       NaN       NaN      NaN  \n",
       "237    NaN       NaN       NaN      NaN  \n",
       "238    NaN       NaN       NaN      NaN  \n",
       "239    NaN       NaN       NaN      NaN  \n",
       "240    NaN       NaN       NaN      NaN  \n",
       "\n",
       "[241 rows x 674 columns]"
      ]
     },
     "execution_count": 34,
     "metadata": {},
     "output_type": "execute_result"
    }
   ],
   "source": [
    "df = pd.read_csv('recoded.csv')\n",
    "df"
   ]
  },
  {
   "cell_type": "code",
   "execution_count": 35,
   "id": "5889a488",
   "metadata": {},
   "outputs": [
    {
     "data": {
      "text/html": [
       "<table class=\"simpletable\">\n",
       "<tr>\n",
       "         <td></td>            <th>coef</th>     <th>std err</th>      <th>t</th>      <th>P>|t|</th>  <th>[0.025</th>    <th>0.975]</th>  \n",
       "</tr>\n",
       "<tr>\n",
       "  <th>Intercept</th>       <td>    0.2142</td> <td>    0.119</td> <td>    1.803</td> <td> 0.073</td> <td>   -0.020</td> <td>    0.449</td>\n",
       "</tr>\n",
       "<tr>\n",
       "  <th>affect_mani</th>     <td>   -1.7954</td> <td>    0.148</td> <td>  -12.120</td> <td> 0.000</td> <td>   -2.088</td> <td>   -1.503</td>\n",
       "</tr>\n",
       "<tr>\n",
       "  <th>bot</th>             <td>    0.0549</td> <td>    0.119</td> <td>    0.462</td> <td> 0.645</td> <td>   -0.179</td> <td>    0.289</td>\n",
       "</tr>\n",
       "<tr>\n",
       "  <th>affect_mani:bot</th> <td>    0.0315</td> <td>    0.148</td> <td>    0.213</td> <td> 0.832</td> <td>   -0.261</td> <td>    0.324</td>\n",
       "</tr>\n",
       "</table>"
      ],
      "text/plain": [
       "<class 'statsmodels.iolib.table.SimpleTable'>"
      ]
     },
     "execution_count": 35,
     "metadata": {},
     "output_type": "execute_result"
    }
   ],
   "source": [
    "model_interaction = smf.ols(formula='change ~ affect_mani + bot + affect_mani:bot', data=df).fit()\n",
    "summary = model_interaction.summary()\n",
    "summary.tables[1]"
   ]
  },
  {
   "cell_type": "markdown",
   "id": "cd503b24",
   "metadata": {},
   "source": [
    "1.Emotional Acknowledgement"
   ]
  },
  {
   "cell_type": "code",
   "execution_count": 36,
   "id": "b573758e",
   "metadata": {},
   "outputs": [
    {
     "data": {
      "text/html": [
       "<table class=\"simpletable\">\n",
       "<tr>\n",
       "         <td></td>            <th>coef</th>     <th>std err</th>      <th>t</th>      <th>P>|t|</th>  <th>[0.025</th>    <th>0.975]</th>  \n",
       "</tr>\n",
       "<tr>\n",
       "  <th>Intercept</th>       <td>    2.7510</td> <td>    0.062</td> <td>   44.606</td> <td> 0.000</td> <td>    2.629</td> <td>    2.873</td>\n",
       "</tr>\n",
       "<tr>\n",
       "  <th>affect_mani</th>     <td>   -0.0711</td> <td>    0.077</td> <td>   -0.925</td> <td> 0.356</td> <td>   -0.223</td> <td>    0.080</td>\n",
       "</tr>\n",
       "<tr>\n",
       "  <th>bot</th>             <td>    0.7349</td> <td>    0.062</td> <td>   11.916</td> <td> 0.000</td> <td>    0.613</td> <td>    0.857</td>\n",
       "</tr>\n",
       "<tr>\n",
       "  <th>affect_mani:bot</th> <td>   -0.0146</td> <td>    0.077</td> <td>   -0.190</td> <td> 0.850</td> <td>   -0.166</td> <td>    0.137</td>\n",
       "</tr>\n",
       "</table>"
      ],
      "text/plain": [
       "<class 'statsmodels.iolib.table.SimpleTable'>"
      ]
     },
     "execution_count": 36,
     "metadata": {},
     "output_type": "execute_result"
    }
   ],
   "source": [
    "model = ols('EA_avg ~ affect_mani + bot + affect_mani:bot', data=df).fit()\n",
    "sm.stats.anova_lm(model, typ=2)\n",
    "summary = model.summary()\n",
    "summary.tables[1]"
   ]
  },
  {
   "cell_type": "markdown",
   "id": "fadc0eb3",
   "metadata": {},
   "source": [
    "2.Trust on Chatbot"
   ]
  },
  {
   "cell_type": "code",
   "execution_count": 37,
   "id": "2fbd6238",
   "metadata": {},
   "outputs": [
    {
     "data": {
      "text/html": [
       "<table class=\"simpletable\">\n",
       "<tr>\n",
       "         <td></td>            <th>coef</th>     <th>std err</th>      <th>t</th>      <th>P>|t|</th>  <th>[0.025</th>    <th>0.975]</th>  \n",
       "</tr>\n",
       "<tr>\n",
       "  <th>Intercept</th>       <td>    2.9675</td> <td>    0.061</td> <td>   48.644</td> <td> 0.000</td> <td>    2.847</td> <td>    3.088</td>\n",
       "</tr>\n",
       "<tr>\n",
       "  <th>affect_mani</th>     <td>   -0.0177</td> <td>    0.076</td> <td>   -0.233</td> <td> 0.816</td> <td>   -0.168</td> <td>    0.132</td>\n",
       "</tr>\n",
       "<tr>\n",
       "  <th>bot</th>             <td>    0.3125</td> <td>    0.061</td> <td>    5.122</td> <td> 0.000</td> <td>    0.192</td> <td>    0.433</td>\n",
       "</tr>\n",
       "<tr>\n",
       "  <th>affect_mani:bot</th> <td>   -0.0261</td> <td>    0.076</td> <td>   -0.343</td> <td> 0.732</td> <td>   -0.176</td> <td>    0.124</td>\n",
       "</tr>\n",
       "</table>"
      ],
      "text/plain": [
       "<class 'statsmodels.iolib.table.SimpleTable'>"
      ]
     },
     "execution_count": 37,
     "metadata": {},
     "output_type": "execute_result"
    }
   ],
   "source": [
    "model = ols('TOC_avg ~ affect_mani + bot + affect_mani:bot', data=df).fit()\n",
    "sm.stats.anova_lm(model, typ=2)\n",
    "summary = model.summary()\n",
    "summary.tables[1]"
   ]
  },
  {
   "cell_type": "markdown",
   "id": "9aafd9c2",
   "metadata": {},
   "source": [
    "3.Effort"
   ]
  },
  {
   "cell_type": "code",
   "execution_count": 38,
   "id": "5be85a91",
   "metadata": {},
   "outputs": [
    {
     "data": {
      "text/html": [
       "<table class=\"simpletable\">\n",
       "<tr>\n",
       "         <td></td>            <th>coef</th>     <th>std err</th>      <th>t</th>      <th>P>|t|</th>  <th>[0.025</th>    <th>0.975]</th>  \n",
       "</tr>\n",
       "<tr>\n",
       "  <th>Intercept</th>       <td>    3.1373</td> <td>    0.080</td> <td>   39.395</td> <td> 0.000</td> <td>    2.980</td> <td>    3.294</td>\n",
       "</tr>\n",
       "<tr>\n",
       "  <th>affect_mani</th>     <td>   -0.0667</td> <td>    0.099</td> <td>   -0.672</td> <td> 0.503</td> <td>   -0.262</td> <td>    0.129</td>\n",
       "</tr>\n",
       "<tr>\n",
       "  <th>bot</th>             <td>    0.1598</td> <td>    0.080</td> <td>    2.007</td> <td> 0.046</td> <td>    0.003</td> <td>    0.317</td>\n",
       "</tr>\n",
       "<tr>\n",
       "  <th>affect_mani:bot</th> <td>   -0.0920</td> <td>    0.099</td> <td>   -0.927</td> <td> 0.355</td> <td>   -0.288</td> <td>    0.104</td>\n",
       "</tr>\n",
       "</table>"
      ],
      "text/plain": [
       "<class 'statsmodels.iolib.table.SimpleTable'>"
      ]
     },
     "execution_count": 38,
     "metadata": {},
     "output_type": "execute_result"
    }
   ],
   "source": [
    "model = ols('E_avg ~ affect_mani + bot + affect_mani:bot', data=df).fit()\n",
    "sm.stats.anova_lm(model, typ=2)\n",
    "summary = model.summary()\n",
    "summary.tables[1]"
   ]
  },
  {
   "cell_type": "markdown",
   "id": "f6cb076e",
   "metadata": {},
   "source": [
    "4.Liking"
   ]
  },
  {
   "cell_type": "code",
   "execution_count": 39,
   "id": "81c1741f",
   "metadata": {},
   "outputs": [
    {
     "data": {
      "text/html": [
       "<table class=\"simpletable\">\n",
       "<tr>\n",
       "         <td></td>            <th>coef</th>     <th>std err</th>      <th>t</th>      <th>P>|t|</th>  <th>[0.025</th>    <th>0.975]</th>  \n",
       "</tr>\n",
       "<tr>\n",
       "  <th>Intercept</th>       <td>    3.1057</td> <td>    0.075</td> <td>   41.571</td> <td> 0.000</td> <td>    2.958</td> <td>    3.253</td>\n",
       "</tr>\n",
       "<tr>\n",
       "  <th>affect_mani</th>     <td>   -0.1077</td> <td>    0.093</td> <td>   -1.157</td> <td> 0.249</td> <td>   -0.291</td> <td>    0.076</td>\n",
       "</tr>\n",
       "<tr>\n",
       "  <th>bot</th>             <td>    0.1017</td> <td>    0.075</td> <td>    1.361</td> <td> 0.175</td> <td>   -0.046</td> <td>    0.249</td>\n",
       "</tr>\n",
       "<tr>\n",
       "  <th>affect_mani:bot</th> <td>   -0.0032</td> <td>    0.093</td> <td>   -0.035</td> <td> 0.972</td> <td>   -0.187</td> <td>    0.180</td>\n",
       "</tr>\n",
       "</table>"
      ],
      "text/plain": [
       "<class 'statsmodels.iolib.table.SimpleTable'>"
      ]
     },
     "execution_count": 39,
     "metadata": {},
     "output_type": "execute_result"
    }
   ],
   "source": [
    "model = ols('L_avg ~ affect_mani + bot + affect_mani:bot', data=df).fit()\n",
    "sm.stats.anova_lm(model, typ=2)\n",
    "summary = model.summary()\n",
    "summary.tables[1]"
   ]
  },
  {
   "cell_type": "markdown",
   "id": "faa43b58",
   "metadata": {},
   "source": [
    "\n",
    "5.Perspective Taking\n"
   ]
  },
  {
   "cell_type": "code",
   "execution_count": 40,
   "id": "f5d40225",
   "metadata": {},
   "outputs": [
    {
     "data": {
      "text/html": [
       "<table class=\"simpletable\">\n",
       "<tr>\n",
       "         <td></td>            <th>coef</th>     <th>std err</th>      <th>t</th>      <th>P>|t|</th>  <th>[0.025</th>    <th>0.975]</th>  \n",
       "</tr>\n",
       "<tr>\n",
       "  <th>Intercept</th>       <td>    1.9583</td> <td>    0.068</td> <td>   28.714</td> <td> 0.000</td> <td>    1.824</td> <td>    2.093</td>\n",
       "</tr>\n",
       "<tr>\n",
       "  <th>affect_mani</th>     <td>   -0.1516</td> <td>    0.085</td> <td>   -1.783</td> <td> 0.076</td> <td>   -0.319</td> <td>    0.016</td>\n",
       "</tr>\n",
       "<tr>\n",
       "  <th>bot</th>             <td>    0.2112</td> <td>    0.068</td> <td>    3.097</td> <td> 0.002</td> <td>    0.077</td> <td>    0.346</td>\n",
       "</tr>\n",
       "<tr>\n",
       "  <th>affect_mani:bot</th> <td>    0.0415</td> <td>    0.085</td> <td>    0.489</td> <td> 0.626</td> <td>   -0.126</td> <td>    0.209</td>\n",
       "</tr>\n",
       "</table>"
      ],
      "text/plain": [
       "<class 'statsmodels.iolib.table.SimpleTable'>"
      ]
     },
     "execution_count": 40,
     "metadata": {},
     "output_type": "execute_result"
    }
   ],
   "source": [
    "model = ols('PT_avg ~ affect_mani + bot + affect_mani:bot', data=df).fit()\n",
    "sm.stats.anova_lm(model, typ=2)\n",
    "summary = model.summary()\n",
    "summary.tables[1]"
   ]
  },
  {
   "cell_type": "markdown",
   "id": "5f87036d",
   "metadata": {},
   "source": [
    "Empathy\n"
   ]
  },
  {
   "cell_type": "code",
   "execution_count": 41,
   "id": "fec024b8",
   "metadata": {
    "scrolled": true
   },
   "outputs": [
    {
     "data": {
      "text/html": [
       "<table class=\"simpletable\">\n",
       "<tr>\n",
       "         <td></td>            <th>coef</th>     <th>std err</th>      <th>t</th>      <th>P>|t|</th>  <th>[0.025</th>    <th>0.975]</th>  \n",
       "</tr>\n",
       "<tr>\n",
       "  <th>Intercept</th>       <td>    3.0487</td> <td>    0.075</td> <td>   40.675</td> <td> 0.000</td> <td>    2.901</td> <td>    3.196</td>\n",
       "</tr>\n",
       "<tr>\n",
       "  <th>affect_mani</th>     <td>   -0.1098</td> <td>    0.093</td> <td>   -1.175</td> <td> 0.241</td> <td>   -0.294</td> <td>    0.074</td>\n",
       "</tr>\n",
       "<tr>\n",
       "  <th>bot</th>             <td>    0.5219</td> <td>    0.075</td> <td>    6.963</td> <td> 0.000</td> <td>    0.374</td> <td>    0.670</td>\n",
       "</tr>\n",
       "<tr>\n",
       "  <th>affect_mani:bot</th> <td>   -0.0309</td> <td>    0.093</td> <td>   -0.331</td> <td> 0.741</td> <td>   -0.215</td> <td>    0.153</td>\n",
       "</tr>\n",
       "</table>"
      ],
      "text/plain": [
       "<class 'statsmodels.iolib.table.SimpleTable'>"
      ]
     },
     "execution_count": 41,
     "metadata": {},
     "output_type": "execute_result"
    }
   ],
   "source": [
    "model = ols('Em_avg ~ affect_mani + bot + affect_mani:bot', data=df).fit()\n",
    "sm.stats.anova_lm(model, typ=2)\n",
    "summary = model.summary()\n",
    "summary.tables[1]"
   ]
  },
  {
   "cell_type": "markdown",
   "id": "40e602d4",
   "metadata": {},
   "source": [
    "7.Trust"
   ]
  },
  {
   "cell_type": "code",
   "execution_count": 42,
   "id": "f7a6f73e",
   "metadata": {},
   "outputs": [
    {
     "data": {
      "text/html": [
       "<table class=\"simpletable\">\n",
       "<tr>\n",
       "         <td></td>            <th>coef</th>     <th>std err</th>      <th>t</th>      <th>P>|t|</th>  <th>[0.025</th>    <th>0.975]</th>  \n",
       "</tr>\n",
       "<tr>\n",
       "  <th>Intercept</th>       <td>    3.0415</td> <td>    0.054</td> <td>   56.073</td> <td> 0.000</td> <td>    2.935</td> <td>    3.148</td>\n",
       "</tr>\n",
       "<tr>\n",
       "  <th>affect_mani</th>     <td>   -0.0049</td> <td>    0.068</td> <td>   -0.073</td> <td> 0.942</td> <td>   -0.138</td> <td>    0.128</td>\n",
       "</tr>\n",
       "<tr>\n",
       "  <th>bot</th>             <td>    0.0834</td> <td>    0.054</td> <td>    1.537</td> <td> 0.126</td> <td>   -0.024</td> <td>    0.190</td>\n",
       "</tr>\n",
       "<tr>\n",
       "  <th>affect_mani:bot</th> <td>   -0.0176</td> <td>    0.068</td> <td>   -0.261</td> <td> 0.795</td> <td>   -0.151</td> <td>    0.116</td>\n",
       "</tr>\n",
       "</table>"
      ],
      "text/plain": [
       "<class 'statsmodels.iolib.table.SimpleTable'>"
      ]
     },
     "execution_count": 42,
     "metadata": {},
     "output_type": "execute_result"
    }
   ],
   "source": [
    "model = ols('T_avg ~ affect_mani + bot + affect_mani:bot', data=df).fit()\n",
    "sm.stats.anova_lm(model, typ=2)\n",
    "summary = model.summary()\n",
    "summary.tables[1]"
   ]
  },
  {
   "cell_type": "markdown",
   "id": "8f40a47f",
   "metadata": {},
   "source": [
    "Expectancy Violation\n"
   ]
  },
  {
   "cell_type": "code",
   "execution_count": 43,
   "id": "493c535f",
   "metadata": {},
   "outputs": [
    {
     "data": {
      "text/html": [
       "<table class=\"simpletable\">\n",
       "<tr>\n",
       "         <td></td>            <th>coef</th>     <th>std err</th>      <th>t</th>      <th>P>|t|</th>  <th>[0.025</th>    <th>0.975]</th>  \n",
       "</tr>\n",
       "<tr>\n",
       "  <th>Intercept</th>       <td>    2.7952</td> <td>    0.051</td> <td>   54.373</td> <td> 0.000</td> <td>    2.694</td> <td>    2.897</td>\n",
       "</tr>\n",
       "<tr>\n",
       "  <th>affect_mani</th>     <td>   -0.0727</td> <td>    0.064</td> <td>   -1.135</td> <td> 0.258</td> <td>   -0.199</td> <td>    0.054</td>\n",
       "</tr>\n",
       "<tr>\n",
       "  <th>bot</th>             <td>    0.0071</td> <td>    0.051</td> <td>    0.139</td> <td> 0.890</td> <td>   -0.094</td> <td>    0.109</td>\n",
       "</tr>\n",
       "<tr>\n",
       "  <th>affect_mani:bot</th> <td>   -0.0009</td> <td>    0.064</td> <td>   -0.014</td> <td> 0.988</td> <td>   -0.127</td> <td>    0.125</td>\n",
       "</tr>\n",
       "</table>"
      ],
      "text/plain": [
       "<class 'statsmodels.iolib.table.SimpleTable'>"
      ]
     },
     "execution_count": 43,
     "metadata": {},
     "output_type": "execute_result"
    }
   ],
   "source": [
    "model = ols('Ex_avg ~ affect_mani + bot + affect_mani:bot', data=df).fit()\n",
    "sm.stats.anova_lm(model, typ=2)\n",
    "summary = model.summary()\n",
    "summary.tables[1]"
   ]
  },
  {
   "cell_type": "markdown",
   "id": "bed9788d",
   "metadata": {},
   "source": [
    "Violation Valence\n"
   ]
  },
  {
   "cell_type": "code",
   "execution_count": 44,
   "id": "8cb765f4",
   "metadata": {},
   "outputs": [
    {
     "data": {
      "text/html": [
       "<table class=\"simpletable\">\n",
       "<tr>\n",
       "         <td></td>            <th>coef</th>     <th>std err</th>      <th>t</th>      <th>P>|t|</th>  <th>[0.025</th>    <th>0.975]</th>  \n",
       "</tr>\n",
       "<tr>\n",
       "  <th>Intercept</th>       <td>    3.6002</td> <td>    0.067</td> <td>   53.993</td> <td> 0.000</td> <td>    3.469</td> <td>    3.732</td>\n",
       "</tr>\n",
       "<tr>\n",
       "  <th>affect_mani</th>     <td>   -0.0040</td> <td>    0.083</td> <td>   -0.048</td> <td> 0.962</td> <td>   -0.168</td> <td>    0.160</td>\n",
       "</tr>\n",
       "<tr>\n",
       "  <th>bot</th>             <td>    0.0802</td> <td>    0.067</td> <td>    1.203</td> <td> 0.230</td> <td>   -0.051</td> <td>    0.212</td>\n",
       "</tr>\n",
       "<tr>\n",
       "  <th>affect_mani:bot</th> <td>   -0.0114</td> <td>    0.083</td> <td>   -0.137</td> <td> 0.891</td> <td>   -0.175</td> <td>    0.153</td>\n",
       "</tr>\n",
       "</table>"
      ],
      "text/plain": [
       "<class 'statsmodels.iolib.table.SimpleTable'>"
      ]
     },
     "execution_count": 44,
     "metadata": {},
     "output_type": "execute_result"
    }
   ],
   "source": [
    "model = ols('vv_avg ~ affect_mani + bot + affect_mani:bot', data=df).fit()\n",
    "sm.stats.anova_lm(model, typ=2)\n",
    "summary = model.summary()\n",
    "summary.tables[1]"
   ]
  },
  {
   "cell_type": "markdown",
   "id": "edef19f8",
   "metadata": {},
   "source": [
    "Enjoyment"
   ]
  },
  {
   "cell_type": "code",
   "execution_count": 45,
   "id": "015b6606",
   "metadata": {},
   "outputs": [
    {
     "data": {
      "text/html": [
       "<table class=\"simpletable\">\n",
       "<tr>\n",
       "         <td></td>            <th>coef</th>     <th>std err</th>      <th>t</th>      <th>P>|t|</th>  <th>[0.025</th>    <th>0.975]</th>  \n",
       "</tr>\n",
       "<tr>\n",
       "  <th>Intercept</th>       <td>    2.6976</td> <td>    0.086</td> <td>   31.322</td> <td> 0.000</td> <td>    2.528</td> <td>    2.867</td>\n",
       "</tr>\n",
       "<tr>\n",
       "  <th>affect_mani</th>     <td>   -0.0851</td> <td>    0.107</td> <td>   -0.793</td> <td> 0.429</td> <td>   -0.297</td> <td>    0.127</td>\n",
       "</tr>\n",
       "<tr>\n",
       "  <th>bot</th>             <td>    0.1949</td> <td>    0.086</td> <td>    2.262</td> <td> 0.025</td> <td>    0.025</td> <td>    0.365</td>\n",
       "</tr>\n",
       "<tr>\n",
       "  <th>affect_mani:bot</th> <td>    0.0461</td> <td>    0.107</td> <td>    0.429</td> <td> 0.668</td> <td>   -0.166</td> <td>    0.258</td>\n",
       "</tr>\n",
       "</table>"
      ],
      "text/plain": [
       "<class 'statsmodels.iolib.table.SimpleTable'>"
      ]
     },
     "execution_count": 45,
     "metadata": {},
     "output_type": "execute_result"
    }
   ],
   "source": [
    "model = ols('IE_avg ~ affect_mani + bot + affect_mani:bot', data=df).fit()\n",
    "sm.stats.anova_lm(model, typ=2)\n",
    "summary = model.summary()\n",
    "summary.tables[1]"
   ]
  },
  {
   "cell_type": "markdown",
   "id": "43e35d26",
   "metadata": {},
   "source": [
    "Chatbot Knowledge"
   ]
  },
  {
   "cell_type": "code",
   "execution_count": 46,
   "id": "4d01716b",
   "metadata": {},
   "outputs": [
    {
     "data": {
      "text/html": [
       "<table class=\"simpletable\">\n",
       "<tr>\n",
       "         <td></td>            <th>coef</th>     <th>std err</th>      <th>t</th>      <th>P>|t|</th>  <th>[0.025</th>    <th>0.975]</th>  \n",
       "</tr>\n",
       "<tr>\n",
       "  <th>Intercept</th>       <td>    4.2292</td> <td>    0.041</td> <td>  102.083</td> <td> 0.000</td> <td>    4.148</td> <td>    4.311</td>\n",
       "</tr>\n",
       "<tr>\n",
       "  <th>affect_mani</th>     <td>    0.0906</td> <td>    0.052</td> <td>    1.754</td> <td> 0.081</td> <td>   -0.011</td> <td>    0.192</td>\n",
       "</tr>\n",
       "<tr>\n",
       "  <th>bot</th>             <td>    0.0093</td> <td>    0.041</td> <td>    0.225</td> <td> 0.822</td> <td>   -0.072</td> <td>    0.091</td>\n",
       "</tr>\n",
       "<tr>\n",
       "  <th>affect_mani:bot</th> <td>   -0.0722</td> <td>    0.052</td> <td>   -1.398</td> <td> 0.164</td> <td>   -0.174</td> <td>    0.030</td>\n",
       "</tr>\n",
       "</table>"
      ],
      "text/plain": [
       "<class 'statsmodels.iolib.table.SimpleTable'>"
      ]
     },
     "execution_count": 46,
     "metadata": {},
     "output_type": "execute_result"
    }
   ],
   "source": [
    "model = ols('AI_avg ~ affect_mani + bot + affect_mani:bot', data=df).fit()\n",
    "sm.stats.anova_lm(model, typ=2)\n",
    "summary = model.summary()\n",
    "summary.tables[1]"
   ]
  },
  {
   "cell_type": "markdown",
   "id": "8663db36",
   "metadata": {},
   "source": [
    "Chatbot Usefulness"
   ]
  },
  {
   "cell_type": "code",
   "execution_count": 47,
   "id": "d14fa5cc",
   "metadata": {},
   "outputs": [
    {
     "data": {
      "text/html": [
       "<table class=\"simpletable\">\n",
       "<tr>\n",
       "         <td></td>            <th>coef</th>     <th>std err</th>      <th>t</th>      <th>P>|t|</th>  <th>[0.025</th>    <th>0.975]</th>  \n",
       "</tr>\n",
       "<tr>\n",
       "  <th>Intercept</th>       <td>    2.8884</td> <td>    0.072</td> <td>   39.989</td> <td> 0.000</td> <td>    2.746</td> <td>    3.031</td>\n",
       "</tr>\n",
       "<tr>\n",
       "  <th>affect_mani</th>     <td>    0.0450</td> <td>    0.090</td> <td>    0.499</td> <td> 0.618</td> <td>   -0.133</td> <td>    0.223</td>\n",
       "</tr>\n",
       "<tr>\n",
       "  <th>bot</th>             <td>    0.0734</td> <td>    0.072</td> <td>    1.016</td> <td> 0.311</td> <td>   -0.069</td> <td>    0.216</td>\n",
       "</tr>\n",
       "<tr>\n",
       "  <th>affect_mani:bot</th> <td>   -0.0171</td> <td>    0.090</td> <td>   -0.190</td> <td> 0.849</td> <td>   -0.195</td> <td>    0.160</td>\n",
       "</tr>\n",
       "</table>"
      ],
      "text/plain": [
       "<class 'statsmodels.iolib.table.SimpleTable'>"
      ]
     },
     "execution_count": 47,
     "metadata": {},
     "output_type": "execute_result"
    }
   ],
   "source": [
    "model = ols('H_avg ~ affect_mani + bot + affect_mani:bot', data=df).fit()\n",
    "sm.stats.anova_lm(model, typ=2)\n",
    "summary = model.summary()\n",
    "summary.tables[1]"
   ]
  },
  {
   "cell_type": "markdown",
   "id": "c20aea03",
   "metadata": {},
   "source": [
    "Anthropomorphism"
   ]
  },
  {
   "cell_type": "code",
   "execution_count": 48,
   "id": "431050ba",
   "metadata": {},
   "outputs": [
    {
     "data": {
      "text/html": [
       "<table class=\"simpletable\">\n",
       "<tr>\n",
       "         <td></td>            <th>coef</th>     <th>std err</th>      <th>t</th>      <th>P>|t|</th>  <th>[0.025</th>    <th>0.975]</th>  \n",
       "</tr>\n",
       "<tr>\n",
       "  <th>Intercept</th>       <td>    3.2353</td> <td>    0.086</td> <td>   37.591</td> <td> 0.000</td> <td>    3.066</td> <td>    3.405</td>\n",
       "</tr>\n",
       "<tr>\n",
       "  <th>affect_mani</th>     <td>    0.2556</td> <td>    0.107</td> <td>    2.383</td> <td> 0.018</td> <td>    0.044</td> <td>    0.467</td>\n",
       "</tr>\n",
       "<tr>\n",
       "  <th>bot</th>             <td>   -0.0342</td> <td>    0.086</td> <td>   -0.397</td> <td> 0.692</td> <td>   -0.204</td> <td>    0.136</td>\n",
       "</tr>\n",
       "<tr>\n",
       "  <th>affect_mani:bot</th> <td>    0.0310</td> <td>    0.107</td> <td>    0.289</td> <td> 0.773</td> <td>   -0.181</td> <td>    0.243</td>\n",
       "</tr>\n",
       "</table>"
      ],
      "text/plain": [
       "<class 'statsmodels.iolib.table.SimpleTable'>"
      ]
     },
     "execution_count": 48,
     "metadata": {},
     "output_type": "execute_result"
    }
   ],
   "source": [
    "model = ols('An_avg ~ affect_mani + bot + affect_mani:bot', data=df).fit()\n",
    "sm.stats.anova_lm(model, typ=2)\n",
    "summary = model.summary()\n",
    "summary.tables[1]"
   ]
  }
 ],
 "metadata": {
  "kernelspec": {
   "display_name": "Python 3 (ipykernel)",
   "language": "python",
   "name": "python3"
  },
  "language_info": {
   "codemirror_mode": {
    "name": "ipython",
    "version": 3
   },
   "file_extension": ".py",
   "mimetype": "text/x-python",
   "name": "python",
   "nbconvert_exporter": "python",
   "pygments_lexer": "ipython3",
   "version": "3.8.13"
  }
 },
 "nbformat": 4,
 "nbformat_minor": 5
}

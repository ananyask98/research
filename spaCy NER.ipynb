{
 "cells": [
  {
   "cell_type": "code",
   "execution_count": 1,
   "id": "f5853ed0",
   "metadata": {},
   "outputs": [],
   "source": [
    "import pandas as pd"
   ]
  },
  {
   "cell_type": "code",
   "execution_count": 2,
   "id": "20a1d448",
   "metadata": {},
   "outputs": [
    {
     "data": {
      "text/html": [
       "<div>\n",
       "<style scoped>\n",
       "    .dataframe tbody tr th:only-of-type {\n",
       "        vertical-align: middle;\n",
       "    }\n",
       "\n",
       "    .dataframe tbody tr th {\n",
       "        vertical-align: top;\n",
       "    }\n",
       "\n",
       "    .dataframe thead th {\n",
       "        text-align: right;\n",
       "    }\n",
       "</style>\n",
       "<table border=\"1\" class=\"dataframe\">\n",
       "  <thead>\n",
       "    <tr style=\"text-align: right;\">\n",
       "      <th></th>\n",
       "      <th>S.No.</th>\n",
       "      <th>text</th>\n",
       "      <th>TEXT</th>\n",
       "      <th>LEMMA</th>\n",
       "      <th>POS</th>\n",
       "      <th>TAG</th>\n",
       "      <th>DEP</th>\n",
       "      <th>SHAPE</th>\n",
       "      <th>ALPHA</th>\n",
       "      <th>STOP</th>\n",
       "    </tr>\n",
       "  </thead>\n",
       "  <tbody>\n",
       "    <tr>\n",
       "      <th>0</th>\n",
       "      <td>1.0</td>\n",
       "      <td>good i enjoy my program well my professors and...</td>\n",
       "      <td>good</td>\n",
       "      <td>good</td>\n",
       "      <td>ADJ</td>\n",
       "      <td>JJ</td>\n",
       "      <td>intj</td>\n",
       "      <td>xxxx</td>\n",
       "      <td>True</td>\n",
       "      <td>False</td>\n",
       "    </tr>\n",
       "    <tr>\n",
       "      <th>1</th>\n",
       "      <td>NaN</td>\n",
       "      <td>NaN</td>\n",
       "      <td>i</td>\n",
       "      <td>I</td>\n",
       "      <td>PRON</td>\n",
       "      <td>PRP</td>\n",
       "      <td>nsubj</td>\n",
       "      <td>x</td>\n",
       "      <td>True</td>\n",
       "      <td>True</td>\n",
       "    </tr>\n",
       "    <tr>\n",
       "      <th>2</th>\n",
       "      <td>NaN</td>\n",
       "      <td>NaN</td>\n",
       "      <td>enjoy</td>\n",
       "      <td>enjoy</td>\n",
       "      <td>VERB</td>\n",
       "      <td>VBP</td>\n",
       "      <td>ccomp</td>\n",
       "      <td>xxxx</td>\n",
       "      <td>True</td>\n",
       "      <td>False</td>\n",
       "    </tr>\n",
       "    <tr>\n",
       "      <th>3</th>\n",
       "      <td>NaN</td>\n",
       "      <td>NaN</td>\n",
       "      <td>my</td>\n",
       "      <td>my</td>\n",
       "      <td>PRON</td>\n",
       "      <td>PRP$</td>\n",
       "      <td>poss</td>\n",
       "      <td>xx</td>\n",
       "      <td>True</td>\n",
       "      <td>True</td>\n",
       "    </tr>\n",
       "    <tr>\n",
       "      <th>4</th>\n",
       "      <td>NaN</td>\n",
       "      <td>NaN</td>\n",
       "      <td>program</td>\n",
       "      <td>program</td>\n",
       "      <td>NOUN</td>\n",
       "      <td>NN</td>\n",
       "      <td>dobj</td>\n",
       "      <td>xxxx</td>\n",
       "      <td>True</td>\n",
       "      <td>False</td>\n",
       "    </tr>\n",
       "  </tbody>\n",
       "</table>\n",
       "</div>"
      ],
      "text/plain": [
       "   S.No.                                               text     TEXT    LEMMA  \\\n",
       "0    1.0  good i enjoy my program well my professors and...    good      good   \n",
       "1    NaN                                                NaN        i       I    \n",
       "2    NaN                                                NaN    enjoy   enjoy    \n",
       "3    NaN                                                NaN       my      my    \n",
       "4    NaN                                                NaN  program  program   \n",
       "\n",
       "     POS    TAG     DEP  SHAPE  ALPHA   STOP  \n",
       "0    ADJ    JJ     intj   xxxx   True  False  \n",
       "1  PRON    PRP   nsubj       x   True   True  \n",
       "2   VERB   VBP   ccomp   xxxx   True   False  \n",
       "3   PRON   PRP$    poss     xx  True   True   \n",
       "4   NOUN     NN    dobj   xxxx  True   False  "
      ]
     },
     "execution_count": 2,
     "metadata": {},
     "output_type": "execute_result"
    }
   ],
   "source": [
    "df=pd.read_excel('Overall.xlsx')\n",
    "df.head()"
   ]
  },
  {
   "cell_type": "code",
   "execution_count": 3,
   "id": "49eff050",
   "metadata": {},
   "outputs": [
    {
     "name": "stdout",
     "output_type": "stream",
     "text": [
      "biology biology NOUN NN nsubj xxxx True False\n",
      "is be AUX VBZ ROOT xx True True\n",
      "my my PRON PRP$ poss xx True True\n",
      "least least ADJ JJS advmod xxxx True True\n",
      "favorite favorite ADJ JJ attr xxxx True False\n",
      "since since SCONJ IN mark xxxx True True\n",
      "the the DET DT det xxx True True\n",
      "exams exam NOUN NNS nsubj xxxx True False\n",
      "are be AUX VBP advcl xxx True True\n",
      "difficult difficult ADJ JJ acomp xxxx True False\n"
     ]
    }
   ],
   "source": [
    "import spacy\n",
    "\n",
    "nlp = spacy.load(\"en_core_web_sm\")\n",
    "doc = nlp(\"biology is my least favorite since the exams are difficult\")\n",
    "for token in doc:\n",
    "    print(token.text, token.lemma_, token.pos_, token.tag_, token.dep_,\n",
    "            token.shape_, token.is_alpha, token.is_stop)"
   ]
  },
  {
   "cell_type": "code",
   "execution_count": 4,
   "id": "8eb8284a",
   "metadata": {},
   "outputs": [],
   "source": [
    "searchwords = ['adaptable','admire','adore','adventurous','amazing','amiable','approve','assure','awe','beautiful','becoming','beguile','beloved','blessed','bliss','blissful','calm','calming','captivating','champion','charming','cheer','cherished','comforting','compelling','considerable','content','credible','darling','delicious','delight','delightful','desirable','dignify','dreamy','driven','durable','ease','elegant','empower','empowering','enchantenchanting','endearing','energizing','enjoy','enjoyable','enlighten','enlightening','exceptional','fabulous','fancy','fantastic','fashionable','faultless','flourishing','formidable','fulfilling','funny','generous','gifted','glamorous','gleaming','glowing','godly','good','better','best','gracious','gratifying','happening','harmonious','heavenly','honourable','hope','ideal','important','incredible','indispensable','indisputable','influential','inspiring','interested','interesting','irresistible','jolly','jovial','joy','joyful','kind','kindly','laugh','leading','legendary','liberating','like','likeable','lordly','lovable','love','lust','luxurious','magical','majestic','memorable','mighty','miraculous','motivate','motivational','not bad','obliging','optimal','out of this world','outgoing','palatable','paramount','peaceful','peachy','perfect','phenomenal','pleasant','pleased','pleasing','pleasurable','positive','powerful','praiseworthy','precious','prestigious','pride','proud','prizewinning','promising','quality','radiant','reasonable','refreshing','reliable','relieve','respect','respectable','revolutionary','rewarding','rousing','saintly','satisfy','satisfying','satisfied','savvy','scrumptious','sensational','sexy','shiny','showy','soothing','sought-after','spectacular','spiffy','stimulating','striking','stunning','stupendous','superb','supreme','swanky','tasteful','tasty','teeming','tender','terrific','thrilling','thrive','titillating','trailblazer','tremendous','trust','trusty','trusting','ultimate','unbelievable','uplifting','useful','valuable','vibrant','wise','wonderful','abnormal','aching','afflicted','afraid','aggressive','agonized','alarmed','alienated','alone','anger','angry','anguish','annoyed','anxious','appalled','ashamed','bad','betrayed','bitter','blame','bored','cheated','cold','complaining','confuse','confused','cowardly','crappy','criticize','crushed','damn','deceive','degrade','dejected','depress','depressed','deprived','desolate','despair','desperate','despicable','diminished','disappoint','disappointed','discouraged','disgust','disgusting','disillusioned','disinterested','dismayed','dissatisfied','distressed','distrustful','doubtful','dull','embarrassed','empty','enraged','evil','excluded','exiled','fail','fatigued','fear','fearful','foolish','forced','frightened','frustrate','frustrated','fuming','grief','grieved','guilty','hate','hateful','heartbroken','helpless','hesitant','hostile','humiliate','humiliated','hurt','incapable','incensed','indecisive','indespair','indifferent','indignant','inferior','inflamed','infuriated','injured','insensitive','insult','insulting','irritated','liar','lifeless','livid','lonely','lose','lost','lousy','manipulated','menaced','miserable','misgiving','mistake','misunderstood','mournful','nastew','negated','neglect','nervous','neutral','nonchalant','not approved','uncomfortable','objected','obstructed','offended','offensive','out of control','overwhelmed','pained','panic','paralyzed','pathetic','pessimistic','powerless','preoccupied','provoked','quaking','questioned','regret','rejected','repugnant','resent','resentful','reserved','restless','ruin','sad','scared','shaky','shame','skeptical','sore','sorrow','sorrowful','stupefied','sulky','suspicious','tearful','tense','terrible','terrified','threaten','threatened','timid','tortured','tragic','unbelieving','uncertain','unconnected','uneasy','unhappy','unimportant','unloved','unpleasant','unsure','upset','useless','victimized','violate','wary','weary','woeful','worked','upworried','worry','worthiness','worthless','wrong']"
   ]
  },
  {
   "cell_type": "code",
   "execution_count": 5,
   "id": "9e14cfb9",
   "metadata": {},
   "outputs": [],
   "source": [
    "df['check']=df['TEXT'].str.startswith(tuple(searchwords))"
   ]
  },
  {
   "cell_type": "code",
   "execution_count": 6,
   "id": "54a42924",
   "metadata": {},
   "outputs": [],
   "source": [
    "df.to_csv('ovcheck.csv')"
   ]
  }
 ],
 "metadata": {
  "kernelspec": {
   "display_name": "Python 3 (ipykernel)",
   "language": "python",
   "name": "python3"
  },
  "language_info": {
   "codemirror_mode": {
    "name": "ipython",
    "version": 3
   },
   "file_extension": ".py",
   "mimetype": "text/x-python",
   "name": "python",
   "nbconvert_exporter": "python",
   "pygments_lexer": "ipython3",
   "version": "3.8.13"
  }
 },
 "nbformat": 4,
 "nbformat_minor": 5
}

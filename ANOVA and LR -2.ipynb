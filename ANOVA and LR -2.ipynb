{
 "cells": [
  {
   "cell_type": "code",
   "execution_count": 1,
   "id": "54fb232a",
   "metadata": {},
   "outputs": [],
   "source": [
    "import warnings\n",
    "warnings.filterwarnings(\"ignore\")\n",
    "import pandas as pd\n",
    "import numpy as np\n",
    "import matplotlib.pyplot as plt\n",
    "import statsmodels.formula.api as smf"
   ]
  },
  {
   "cell_type": "code",
   "execution_count": 2,
   "id": "6ee8bf99",
   "metadata": {},
   "outputs": [],
   "source": [
    "import seaborn as sns\n",
    "import pingouin as pg\n",
    "import statsmodels.api as sm\n",
    "from statsmodels.formula.api import ols"
   ]
  },
  {
   "cell_type": "code",
   "execution_count": 3,
   "id": "52485eaf",
   "metadata": {},
   "outputs": [
    {
     "data": {
      "text/html": [
       "<div>\n",
       "<style scoped>\n",
       "    .dataframe tbody tr th:only-of-type {\n",
       "        vertical-align: middle;\n",
       "    }\n",
       "\n",
       "    .dataframe tbody tr th {\n",
       "        vertical-align: top;\n",
       "    }\n",
       "\n",
       "    .dataframe thead th {\n",
       "        text-align: right;\n",
       "    }\n",
       "</style>\n",
       "<table border=\"1\" class=\"dataframe\">\n",
       "  <thead>\n",
       "    <tr style=\"text-align: right;\">\n",
       "      <th></th>\n",
       "      <th>StartDate</th>\n",
       "      <th>EndDate</th>\n",
       "      <th>Status</th>\n",
       "      <th>IPAddress</th>\n",
       "      <th>Progress</th>\n",
       "      <th>Duration (in seconds)</th>\n",
       "      <th>Finished</th>\n",
       "      <th>RecordedDate</th>\n",
       "      <th>ResponseId</th>\n",
       "      <th>RecipientLastName</th>\n",
       "      <th>...</th>\n",
       "      <th>Q34_6</th>\n",
       "      <th>Q34_7</th>\n",
       "      <th>Q34_8</th>\n",
       "      <th>Q35</th>\n",
       "      <th>Q37</th>\n",
       "      <th>Q38</th>\n",
       "      <th>Q39</th>\n",
       "      <th>Q39_6_TEXT</th>\n",
       "      <th>Q40</th>\n",
       "      <th>Q41</th>\n",
       "    </tr>\n",
       "  </thead>\n",
       "  <tbody>\n",
       "    <tr>\n",
       "      <th>0</th>\n",
       "      <td>4/23/22 11:58</td>\n",
       "      <td>4/23/22 12:06</td>\n",
       "      <td>0</td>\n",
       "      <td>69.14.146.241</td>\n",
       "      <td>100</td>\n",
       "      <td>471</td>\n",
       "      <td>1</td>\n",
       "      <td>4/23/22 12:06</td>\n",
       "      <td>R_a3LgC44oQLNt5BL</td>\n",
       "      <td>NaN</td>\n",
       "      <td>...</td>\n",
       "      <td>1</td>\n",
       "      <td>0</td>\n",
       "      <td>6</td>\n",
       "      <td>2</td>\n",
       "      <td>1999</td>\n",
       "      <td>3</td>\n",
       "      <td>1</td>\n",
       "      <td>NaN</td>\n",
       "      <td>1</td>\n",
       "      <td>11.0</td>\n",
       "    </tr>\n",
       "    <tr>\n",
       "      <th>1</th>\n",
       "      <td>4/23/22 11:59</td>\n",
       "      <td>4/23/22 12:10</td>\n",
       "      <td>0</td>\n",
       "      <td>151.225.175.73</td>\n",
       "      <td>100</td>\n",
       "      <td>703</td>\n",
       "      <td>1</td>\n",
       "      <td>4/23/22 12:10</td>\n",
       "      <td>R_1jUQxNbIZ0JrqOB</td>\n",
       "      <td>NaN</td>\n",
       "      <td>...</td>\n",
       "      <td>1</td>\n",
       "      <td>0</td>\n",
       "      <td>7</td>\n",
       "      <td>2</td>\n",
       "      <td>2001</td>\n",
       "      <td>2</td>\n",
       "      <td>1</td>\n",
       "      <td>NaN</td>\n",
       "      <td>1</td>\n",
       "      <td>11.0</td>\n",
       "    </tr>\n",
       "    <tr>\n",
       "      <th>2</th>\n",
       "      <td>4/23/22 11:58</td>\n",
       "      <td>4/23/22 12:11</td>\n",
       "      <td>0</td>\n",
       "      <td>86.7.172.93</td>\n",
       "      <td>100</td>\n",
       "      <td>804</td>\n",
       "      <td>1</td>\n",
       "      <td>4/23/22 12:11</td>\n",
       "      <td>R_RV5e8YJ5bJwrJsZ</td>\n",
       "      <td>NaN</td>\n",
       "      <td>...</td>\n",
       "      <td>1</td>\n",
       "      <td>0</td>\n",
       "      <td>2</td>\n",
       "      <td>2</td>\n",
       "      <td>2002</td>\n",
       "      <td>3</td>\n",
       "      <td>4</td>\n",
       "      <td>NaN</td>\n",
       "      <td>1</td>\n",
       "      <td>7.0</td>\n",
       "    </tr>\n",
       "    <tr>\n",
       "      <th>3</th>\n",
       "      <td>4/23/22 12:00</td>\n",
       "      <td>4/23/22 12:15</td>\n",
       "      <td>0</td>\n",
       "      <td>146.90.88.36</td>\n",
       "      <td>100</td>\n",
       "      <td>906</td>\n",
       "      <td>1</td>\n",
       "      <td>4/23/22 12:15</td>\n",
       "      <td>R_1FhAhCAxjVQUEAa</td>\n",
       "      <td>NaN</td>\n",
       "      <td>...</td>\n",
       "      <td>0</td>\n",
       "      <td>0</td>\n",
       "      <td>7</td>\n",
       "      <td>1</td>\n",
       "      <td>2000</td>\n",
       "      <td>3</td>\n",
       "      <td>1</td>\n",
       "      <td>NaN</td>\n",
       "      <td>1</td>\n",
       "      <td>4.0</td>\n",
       "    </tr>\n",
       "    <tr>\n",
       "      <th>4</th>\n",
       "      <td>4/23/22 12:07</td>\n",
       "      <td>4/23/22 12:15</td>\n",
       "      <td>0</td>\n",
       "      <td>79.71.30.175</td>\n",
       "      <td>100</td>\n",
       "      <td>462</td>\n",
       "      <td>1</td>\n",
       "      <td>4/23/22 12:15</td>\n",
       "      <td>R_2QVyTh3Olz3Yxvu</td>\n",
       "      <td>NaN</td>\n",
       "      <td>...</td>\n",
       "      <td>0</td>\n",
       "      <td>0</td>\n",
       "      <td>5</td>\n",
       "      <td>2</td>\n",
       "      <td>2001</td>\n",
       "      <td>2</td>\n",
       "      <td>6</td>\n",
       "      <td>Pakistani</td>\n",
       "      <td>1</td>\n",
       "      <td>2.0</td>\n",
       "    </tr>\n",
       "  </tbody>\n",
       "</table>\n",
       "<p>5 rows × 129 columns</p>\n",
       "</div>"
      ],
      "text/plain": [
       "       StartDate        EndDate  Status       IPAddress  Progress  \\\n",
       "0  4/23/22 11:58  4/23/22 12:06       0   69.14.146.241       100   \n",
       "1  4/23/22 11:59  4/23/22 12:10       0  151.225.175.73       100   \n",
       "2  4/23/22 11:58  4/23/22 12:11       0     86.7.172.93       100   \n",
       "3  4/23/22 12:00  4/23/22 12:15       0    146.90.88.36       100   \n",
       "4  4/23/22 12:07  4/23/22 12:15       0    79.71.30.175       100   \n",
       "\n",
       "   Duration (in seconds)  Finished   RecordedDate         ResponseId  \\\n",
       "0                    471         1  4/23/22 12:06  R_a3LgC44oQLNt5BL   \n",
       "1                    703         1  4/23/22 12:10  R_1jUQxNbIZ0JrqOB   \n",
       "2                    804         1  4/23/22 12:11  R_RV5e8YJ5bJwrJsZ   \n",
       "3                    906         1  4/23/22 12:15  R_1FhAhCAxjVQUEAa   \n",
       "4                    462         1  4/23/22 12:15  R_2QVyTh3Olz3Yxvu   \n",
       "\n",
       "   RecipientLastName  ...  Q34_6  Q34_7  Q34_8  Q35   Q37 Q38 Q39  Q39_6_TEXT  \\\n",
       "0                NaN  ...      1      0      6    2  1999   3   1         NaN   \n",
       "1                NaN  ...      1      0      7    2  2001   2   1         NaN   \n",
       "2                NaN  ...      1      0      2    2  2002   3   4         NaN   \n",
       "3                NaN  ...      0      0      7    1  2000   3   1         NaN   \n",
       "4                NaN  ...      0      0      5    2  2001   2   6   Pakistani   \n",
       "\n",
       "  Q40   Q41  \n",
       "0   1  11.0  \n",
       "1   1  11.0  \n",
       "2   1   7.0  \n",
       "3   1   4.0  \n",
       "4   1   2.0  \n",
       "\n",
       "[5 rows x 129 columns]"
      ]
     },
     "execution_count": 3,
     "metadata": {},
     "output_type": "execute_result"
    }
   ],
   "source": [
    "df1 = pd.read_csv('Num.csv')\n",
    "df1.head()"
   ]
  },
  {
   "cell_type": "code",
   "execution_count": 4,
   "id": "a677e2ad",
   "metadata": {},
   "outputs": [
    {
     "data": {
      "text/html": [
       "<div>\n",
       "<style scoped>\n",
       "    .dataframe tbody tr th:only-of-type {\n",
       "        vertical-align: middle;\n",
       "    }\n",
       "\n",
       "    .dataframe tbody tr th {\n",
       "        vertical-align: top;\n",
       "    }\n",
       "\n",
       "    .dataframe thead th {\n",
       "        text-align: right;\n",
       "    }\n",
       "</style>\n",
       "<table border=\"1\" class=\"dataframe\">\n",
       "  <thead>\n",
       "    <tr style=\"text-align: right;\">\n",
       "      <th></th>\n",
       "      <th>StartDate</th>\n",
       "      <th>EndDate</th>\n",
       "      <th>Status</th>\n",
       "      <th>IPAddress</th>\n",
       "      <th>Progress</th>\n",
       "      <th>Duration (in seconds)</th>\n",
       "      <th>Finished</th>\n",
       "      <th>RecordedDate</th>\n",
       "      <th>ResponseId</th>\n",
       "      <th>RecipientLastName</th>\n",
       "      <th>...</th>\n",
       "      <th>Q34_6</th>\n",
       "      <th>Q34_7</th>\n",
       "      <th>Q34_8</th>\n",
       "      <th>Q35</th>\n",
       "      <th>Q37</th>\n",
       "      <th>Q38</th>\n",
       "      <th>Q39</th>\n",
       "      <th>Q39_6_TEXT</th>\n",
       "      <th>Q40</th>\n",
       "      <th>Q41</th>\n",
       "    </tr>\n",
       "  </thead>\n",
       "  <tbody>\n",
       "    <tr>\n",
       "      <th>0</th>\n",
       "      <td>4/23/22 11:58</td>\n",
       "      <td>4/23/22 12:06</td>\n",
       "      <td>0</td>\n",
       "      <td>69.14.146.241</td>\n",
       "      <td>100</td>\n",
       "      <td>471</td>\n",
       "      <td>1</td>\n",
       "      <td>4/23/22 12:06</td>\n",
       "      <td>R_a3LgC44oQLNt5BL</td>\n",
       "      <td>0.0</td>\n",
       "      <td>...</td>\n",
       "      <td>1</td>\n",
       "      <td>0</td>\n",
       "      <td>6</td>\n",
       "      <td>2</td>\n",
       "      <td>1999</td>\n",
       "      <td>3</td>\n",
       "      <td>1</td>\n",
       "      <td>0</td>\n",
       "      <td>1</td>\n",
       "      <td>11.0</td>\n",
       "    </tr>\n",
       "    <tr>\n",
       "      <th>1</th>\n",
       "      <td>4/23/22 11:59</td>\n",
       "      <td>4/23/22 12:10</td>\n",
       "      <td>0</td>\n",
       "      <td>151.225.175.73</td>\n",
       "      <td>100</td>\n",
       "      <td>703</td>\n",
       "      <td>1</td>\n",
       "      <td>4/23/22 12:10</td>\n",
       "      <td>R_1jUQxNbIZ0JrqOB</td>\n",
       "      <td>0.0</td>\n",
       "      <td>...</td>\n",
       "      <td>1</td>\n",
       "      <td>0</td>\n",
       "      <td>7</td>\n",
       "      <td>2</td>\n",
       "      <td>2001</td>\n",
       "      <td>2</td>\n",
       "      <td>1</td>\n",
       "      <td>0</td>\n",
       "      <td>1</td>\n",
       "      <td>11.0</td>\n",
       "    </tr>\n",
       "    <tr>\n",
       "      <th>2</th>\n",
       "      <td>4/23/22 11:58</td>\n",
       "      <td>4/23/22 12:11</td>\n",
       "      <td>0</td>\n",
       "      <td>86.7.172.93</td>\n",
       "      <td>100</td>\n",
       "      <td>804</td>\n",
       "      <td>1</td>\n",
       "      <td>4/23/22 12:11</td>\n",
       "      <td>R_RV5e8YJ5bJwrJsZ</td>\n",
       "      <td>0.0</td>\n",
       "      <td>...</td>\n",
       "      <td>1</td>\n",
       "      <td>0</td>\n",
       "      <td>2</td>\n",
       "      <td>2</td>\n",
       "      <td>2002</td>\n",
       "      <td>3</td>\n",
       "      <td>4</td>\n",
       "      <td>0</td>\n",
       "      <td>1</td>\n",
       "      <td>7.0</td>\n",
       "    </tr>\n",
       "    <tr>\n",
       "      <th>3</th>\n",
       "      <td>4/23/22 12:00</td>\n",
       "      <td>4/23/22 12:15</td>\n",
       "      <td>0</td>\n",
       "      <td>146.90.88.36</td>\n",
       "      <td>100</td>\n",
       "      <td>906</td>\n",
       "      <td>1</td>\n",
       "      <td>4/23/22 12:15</td>\n",
       "      <td>R_1FhAhCAxjVQUEAa</td>\n",
       "      <td>0.0</td>\n",
       "      <td>...</td>\n",
       "      <td>0</td>\n",
       "      <td>0</td>\n",
       "      <td>7</td>\n",
       "      <td>1</td>\n",
       "      <td>2000</td>\n",
       "      <td>3</td>\n",
       "      <td>1</td>\n",
       "      <td>0</td>\n",
       "      <td>1</td>\n",
       "      <td>4.0</td>\n",
       "    </tr>\n",
       "    <tr>\n",
       "      <th>4</th>\n",
       "      <td>4/23/22 12:07</td>\n",
       "      <td>4/23/22 12:15</td>\n",
       "      <td>0</td>\n",
       "      <td>79.71.30.175</td>\n",
       "      <td>100</td>\n",
       "      <td>462</td>\n",
       "      <td>1</td>\n",
       "      <td>4/23/22 12:15</td>\n",
       "      <td>R_2QVyTh3Olz3Yxvu</td>\n",
       "      <td>0.0</td>\n",
       "      <td>...</td>\n",
       "      <td>0</td>\n",
       "      <td>0</td>\n",
       "      <td>5</td>\n",
       "      <td>2</td>\n",
       "      <td>2001</td>\n",
       "      <td>2</td>\n",
       "      <td>6</td>\n",
       "      <td>Pakistani</td>\n",
       "      <td>1</td>\n",
       "      <td>2.0</td>\n",
       "    </tr>\n",
       "    <tr>\n",
       "      <th>...</th>\n",
       "      <td>...</td>\n",
       "      <td>...</td>\n",
       "      <td>...</td>\n",
       "      <td>...</td>\n",
       "      <td>...</td>\n",
       "      <td>...</td>\n",
       "      <td>...</td>\n",
       "      <td>...</td>\n",
       "      <td>...</td>\n",
       "      <td>...</td>\n",
       "      <td>...</td>\n",
       "      <td>...</td>\n",
       "      <td>...</td>\n",
       "      <td>...</td>\n",
       "      <td>...</td>\n",
       "      <td>...</td>\n",
       "      <td>...</td>\n",
       "      <td>...</td>\n",
       "      <td>...</td>\n",
       "      <td>...</td>\n",
       "      <td>...</td>\n",
       "    </tr>\n",
       "    <tr>\n",
       "      <th>148</th>\n",
       "      <td>5/1/22 6:54</td>\n",
       "      <td>5/1/22 7:06</td>\n",
       "      <td>0</td>\n",
       "      <td>92.233.55.48</td>\n",
       "      <td>100</td>\n",
       "      <td>683</td>\n",
       "      <td>1</td>\n",
       "      <td>5/1/22 7:06</td>\n",
       "      <td>R_2EzRvgvTxuoCufZ</td>\n",
       "      <td>0.0</td>\n",
       "      <td>...</td>\n",
       "      <td>2</td>\n",
       "      <td>0</td>\n",
       "      <td>5</td>\n",
       "      <td>2</td>\n",
       "      <td>1999</td>\n",
       "      <td>3</td>\n",
       "      <td>1</td>\n",
       "      <td>0</td>\n",
       "      <td>1</td>\n",
       "      <td>1.0</td>\n",
       "    </tr>\n",
       "    <tr>\n",
       "      <th>149</th>\n",
       "      <td>5/1/22 7:17</td>\n",
       "      <td>5/1/22 7:25</td>\n",
       "      <td>0</td>\n",
       "      <td>87.115.131.226</td>\n",
       "      <td>100</td>\n",
       "      <td>501</td>\n",
       "      <td>1</td>\n",
       "      <td>5/1/22 7:25</td>\n",
       "      <td>R_4MVUnqERmyLkocF</td>\n",
       "      <td>0.0</td>\n",
       "      <td>...</td>\n",
       "      <td>7</td>\n",
       "      <td>0</td>\n",
       "      <td>6</td>\n",
       "      <td>1</td>\n",
       "      <td>2001</td>\n",
       "      <td>2</td>\n",
       "      <td>1</td>\n",
       "      <td>0</td>\n",
       "      <td>1</td>\n",
       "      <td>1.0</td>\n",
       "    </tr>\n",
       "    <tr>\n",
       "      <th>150</th>\n",
       "      <td>5/3/22 13:32</td>\n",
       "      <td>5/3/22 13:46</td>\n",
       "      <td>0</td>\n",
       "      <td>155.246.63.46</td>\n",
       "      <td>100</td>\n",
       "      <td>838</td>\n",
       "      <td>1</td>\n",
       "      <td>5/3/22 13:46</td>\n",
       "      <td>R_2ahIZIegcLUNTDU</td>\n",
       "      <td>0.0</td>\n",
       "      <td>...</td>\n",
       "      <td>0</td>\n",
       "      <td>0</td>\n",
       "      <td>0</td>\n",
       "      <td>2</td>\n",
       "      <td>2003</td>\n",
       "      <td>3</td>\n",
       "      <td>1</td>\n",
       "      <td>0</td>\n",
       "      <td>1</td>\n",
       "      <td>11.0</td>\n",
       "    </tr>\n",
       "    <tr>\n",
       "      <th>151</th>\n",
       "      <td>5/3/22 13:40</td>\n",
       "      <td>5/3/22 13:59</td>\n",
       "      <td>0</td>\n",
       "      <td>155.246.208.31</td>\n",
       "      <td>100</td>\n",
       "      <td>1114</td>\n",
       "      <td>1</td>\n",
       "      <td>5/3/22 13:59</td>\n",
       "      <td>R_28B2hHX9SQYCgQ1</td>\n",
       "      <td>0.0</td>\n",
       "      <td>...</td>\n",
       "      <td>3</td>\n",
       "      <td>4</td>\n",
       "      <td>7</td>\n",
       "      <td>2</td>\n",
       "      <td>2003</td>\n",
       "      <td>2</td>\n",
       "      <td>1</td>\n",
       "      <td>0</td>\n",
       "      <td>1</td>\n",
       "      <td>0.0</td>\n",
       "    </tr>\n",
       "    <tr>\n",
       "      <th>152</th>\n",
       "      <td>5/3/22 13:40</td>\n",
       "      <td>5/3/22 14:01</td>\n",
       "      <td>0</td>\n",
       "      <td>155.246.169.25</td>\n",
       "      <td>100</td>\n",
       "      <td>1266</td>\n",
       "      <td>1</td>\n",
       "      <td>5/3/22 14:02</td>\n",
       "      <td>R_z8V7Pbza4PNkH7j</td>\n",
       "      <td>0.0</td>\n",
       "      <td>...</td>\n",
       "      <td>0</td>\n",
       "      <td>0</td>\n",
       "      <td>10</td>\n",
       "      <td>2</td>\n",
       "      <td>2004</td>\n",
       "      <td>3</td>\n",
       "      <td>2</td>\n",
       "      <td>0</td>\n",
       "      <td>1</td>\n",
       "      <td>11.0</td>\n",
       "    </tr>\n",
       "  </tbody>\n",
       "</table>\n",
       "<p>153 rows × 129 columns</p>\n",
       "</div>"
      ],
      "text/plain": [
       "         StartDate        EndDate  Status       IPAddress  Progress  \\\n",
       "0    4/23/22 11:58  4/23/22 12:06       0   69.14.146.241       100   \n",
       "1    4/23/22 11:59  4/23/22 12:10       0  151.225.175.73       100   \n",
       "2    4/23/22 11:58  4/23/22 12:11       0     86.7.172.93       100   \n",
       "3    4/23/22 12:00  4/23/22 12:15       0    146.90.88.36       100   \n",
       "4    4/23/22 12:07  4/23/22 12:15       0    79.71.30.175       100   \n",
       "..             ...            ...     ...             ...       ...   \n",
       "148    5/1/22 6:54    5/1/22 7:06       0    92.233.55.48       100   \n",
       "149    5/1/22 7:17    5/1/22 7:25       0  87.115.131.226       100   \n",
       "150   5/3/22 13:32   5/3/22 13:46       0   155.246.63.46       100   \n",
       "151   5/3/22 13:40   5/3/22 13:59       0  155.246.208.31       100   \n",
       "152   5/3/22 13:40   5/3/22 14:01       0  155.246.169.25       100   \n",
       "\n",
       "     Duration (in seconds)  Finished   RecordedDate         ResponseId  \\\n",
       "0                      471         1  4/23/22 12:06  R_a3LgC44oQLNt5BL   \n",
       "1                      703         1  4/23/22 12:10  R_1jUQxNbIZ0JrqOB   \n",
       "2                      804         1  4/23/22 12:11  R_RV5e8YJ5bJwrJsZ   \n",
       "3                      906         1  4/23/22 12:15  R_1FhAhCAxjVQUEAa   \n",
       "4                      462         1  4/23/22 12:15  R_2QVyTh3Olz3Yxvu   \n",
       "..                     ...       ...            ...                ...   \n",
       "148                    683         1    5/1/22 7:06  R_2EzRvgvTxuoCufZ   \n",
       "149                    501         1    5/1/22 7:25  R_4MVUnqERmyLkocF   \n",
       "150                    838         1   5/3/22 13:46  R_2ahIZIegcLUNTDU   \n",
       "151                   1114         1   5/3/22 13:59  R_28B2hHX9SQYCgQ1   \n",
       "152                   1266         1   5/3/22 14:02  R_z8V7Pbza4PNkH7j   \n",
       "\n",
       "     RecipientLastName  ...  Q34_6  Q34_7  Q34_8  Q35   Q37 Q38 Q39  \\\n",
       "0                  0.0  ...      1      0      6    2  1999   3   1   \n",
       "1                  0.0  ...      1      0      7    2  2001   2   1   \n",
       "2                  0.0  ...      1      0      2    2  2002   3   4   \n",
       "3                  0.0  ...      0      0      7    1  2000   3   1   \n",
       "4                  0.0  ...      0      0      5    2  2001   2   6   \n",
       "..                 ...  ...    ...    ...    ...  ...   ...  ..  ..   \n",
       "148                0.0  ...      2      0      5    2  1999   3   1   \n",
       "149                0.0  ...      7      0      6    1  2001   2   1   \n",
       "150                0.0  ...      0      0      0    2  2003   3   1   \n",
       "151                0.0  ...      3      4      7    2  2003   2   1   \n",
       "152                0.0  ...      0      0     10    2  2004   3   2   \n",
       "\n",
       "     Q39_6_TEXT Q40   Q41  \n",
       "0             0   1  11.0  \n",
       "1             0   1  11.0  \n",
       "2             0   1   7.0  \n",
       "3             0   1   4.0  \n",
       "4     Pakistani   1   2.0  \n",
       "..          ...  ..   ...  \n",
       "148           0   1   1.0  \n",
       "149           0   1   1.0  \n",
       "150           0   1  11.0  \n",
       "151           0   1   0.0  \n",
       "152           0   1  11.0  \n",
       "\n",
       "[153 rows x 129 columns]"
      ]
     },
     "execution_count": 4,
     "metadata": {},
     "output_type": "execute_result"
    }
   ],
   "source": [
    "df1.fillna(0, inplace=True)\n",
    "df1"
   ]
  },
  {
   "cell_type": "code",
   "execution_count": 5,
   "id": "f9a148bf",
   "metadata": {},
   "outputs": [
    {
     "data": {
      "text/html": [
       "<div>\n",
       "<style scoped>\n",
       "    .dataframe tbody tr th:only-of-type {\n",
       "        vertical-align: middle;\n",
       "    }\n",
       "\n",
       "    .dataframe tbody tr th {\n",
       "        vertical-align: top;\n",
       "    }\n",
       "\n",
       "    .dataframe thead th {\n",
       "        text-align: right;\n",
       "    }\n",
       "</style>\n",
       "<table border=\"1\" class=\"dataframe\">\n",
       "  <thead>\n",
       "    <tr style=\"text-align: right;\">\n",
       "      <th></th>\n",
       "      <th>StartDate</th>\n",
       "      <th>EndDate</th>\n",
       "      <th>Status</th>\n",
       "      <th>IPAddress</th>\n",
       "      <th>Progress</th>\n",
       "      <th>Duration (in seconds)</th>\n",
       "      <th>Finished</th>\n",
       "      <th>RecordedDate</th>\n",
       "      <th>ResponseId</th>\n",
       "      <th>RecipientLastName</th>\n",
       "      <th>...</th>\n",
       "      <th>Q34_6</th>\n",
       "      <th>Q34_7</th>\n",
       "      <th>Q34_8</th>\n",
       "      <th>Q35</th>\n",
       "      <th>Q37</th>\n",
       "      <th>Q38</th>\n",
       "      <th>Q39</th>\n",
       "      <th>Q39_6_TEXT</th>\n",
       "      <th>Q40</th>\n",
       "      <th>Q41</th>\n",
       "    </tr>\n",
       "  </thead>\n",
       "  <tbody>\n",
       "    <tr>\n",
       "      <th>0</th>\n",
       "      <td>4/23/22 11:58</td>\n",
       "      <td>4/23/22 12:06</td>\n",
       "      <td>0</td>\n",
       "      <td>69.14.146.241</td>\n",
       "      <td>100</td>\n",
       "      <td>471</td>\n",
       "      <td>1</td>\n",
       "      <td>4/23/22 12:06</td>\n",
       "      <td>R_a3LgC44oQLNt5BL</td>\n",
       "      <td>0.0</td>\n",
       "      <td>...</td>\n",
       "      <td>1</td>\n",
       "      <td>0</td>\n",
       "      <td>6</td>\n",
       "      <td>2</td>\n",
       "      <td>1999</td>\n",
       "      <td>3</td>\n",
       "      <td>1</td>\n",
       "      <td>0</td>\n",
       "      <td>1</td>\n",
       "      <td>11.0</td>\n",
       "    </tr>\n",
       "    <tr>\n",
       "      <th>1</th>\n",
       "      <td>4/23/22 11:59</td>\n",
       "      <td>4/23/22 12:10</td>\n",
       "      <td>0</td>\n",
       "      <td>151.225.175.73</td>\n",
       "      <td>100</td>\n",
       "      <td>703</td>\n",
       "      <td>1</td>\n",
       "      <td>4/23/22 12:10</td>\n",
       "      <td>R_1jUQxNbIZ0JrqOB</td>\n",
       "      <td>0.0</td>\n",
       "      <td>...</td>\n",
       "      <td>1</td>\n",
       "      <td>0</td>\n",
       "      <td>7</td>\n",
       "      <td>2</td>\n",
       "      <td>2001</td>\n",
       "      <td>2</td>\n",
       "      <td>1</td>\n",
       "      <td>0</td>\n",
       "      <td>1</td>\n",
       "      <td>11.0</td>\n",
       "    </tr>\n",
       "    <tr>\n",
       "      <th>2</th>\n",
       "      <td>4/23/22 11:58</td>\n",
       "      <td>4/23/22 12:11</td>\n",
       "      <td>0</td>\n",
       "      <td>86.7.172.93</td>\n",
       "      <td>100</td>\n",
       "      <td>804</td>\n",
       "      <td>1</td>\n",
       "      <td>4/23/22 12:11</td>\n",
       "      <td>R_RV5e8YJ5bJwrJsZ</td>\n",
       "      <td>0.0</td>\n",
       "      <td>...</td>\n",
       "      <td>1</td>\n",
       "      <td>0</td>\n",
       "      <td>2</td>\n",
       "      <td>2</td>\n",
       "      <td>2002</td>\n",
       "      <td>3</td>\n",
       "      <td>4</td>\n",
       "      <td>0</td>\n",
       "      <td>1</td>\n",
       "      <td>7.0</td>\n",
       "    </tr>\n",
       "    <tr>\n",
       "      <th>3</th>\n",
       "      <td>4/23/22 12:00</td>\n",
       "      <td>4/23/22 12:15</td>\n",
       "      <td>0</td>\n",
       "      <td>146.90.88.36</td>\n",
       "      <td>100</td>\n",
       "      <td>906</td>\n",
       "      <td>1</td>\n",
       "      <td>4/23/22 12:15</td>\n",
       "      <td>R_1FhAhCAxjVQUEAa</td>\n",
       "      <td>0.0</td>\n",
       "      <td>...</td>\n",
       "      <td>0</td>\n",
       "      <td>0</td>\n",
       "      <td>7</td>\n",
       "      <td>1</td>\n",
       "      <td>2000</td>\n",
       "      <td>3</td>\n",
       "      <td>1</td>\n",
       "      <td>0</td>\n",
       "      <td>1</td>\n",
       "      <td>4.0</td>\n",
       "    </tr>\n",
       "    <tr>\n",
       "      <th>4</th>\n",
       "      <td>4/23/22 12:07</td>\n",
       "      <td>4/23/22 12:15</td>\n",
       "      <td>0</td>\n",
       "      <td>79.71.30.175</td>\n",
       "      <td>100</td>\n",
       "      <td>462</td>\n",
       "      <td>1</td>\n",
       "      <td>4/23/22 12:15</td>\n",
       "      <td>R_2QVyTh3Olz3Yxvu</td>\n",
       "      <td>0.0</td>\n",
       "      <td>...</td>\n",
       "      <td>0</td>\n",
       "      <td>0</td>\n",
       "      <td>5</td>\n",
       "      <td>2</td>\n",
       "      <td>2001</td>\n",
       "      <td>2</td>\n",
       "      <td>6</td>\n",
       "      <td>Pakistani</td>\n",
       "      <td>1</td>\n",
       "      <td>2.0</td>\n",
       "    </tr>\n",
       "    <tr>\n",
       "      <th>...</th>\n",
       "      <td>...</td>\n",
       "      <td>...</td>\n",
       "      <td>...</td>\n",
       "      <td>...</td>\n",
       "      <td>...</td>\n",
       "      <td>...</td>\n",
       "      <td>...</td>\n",
       "      <td>...</td>\n",
       "      <td>...</td>\n",
       "      <td>...</td>\n",
       "      <td>...</td>\n",
       "      <td>...</td>\n",
       "      <td>...</td>\n",
       "      <td>...</td>\n",
       "      <td>...</td>\n",
       "      <td>...</td>\n",
       "      <td>...</td>\n",
       "      <td>...</td>\n",
       "      <td>...</td>\n",
       "      <td>...</td>\n",
       "      <td>...</td>\n",
       "    </tr>\n",
       "    <tr>\n",
       "      <th>148</th>\n",
       "      <td>5/1/22 6:54</td>\n",
       "      <td>5/1/22 7:06</td>\n",
       "      <td>0</td>\n",
       "      <td>92.233.55.48</td>\n",
       "      <td>100</td>\n",
       "      <td>683</td>\n",
       "      <td>1</td>\n",
       "      <td>5/1/22 7:06</td>\n",
       "      <td>R_2EzRvgvTxuoCufZ</td>\n",
       "      <td>0.0</td>\n",
       "      <td>...</td>\n",
       "      <td>2</td>\n",
       "      <td>0</td>\n",
       "      <td>5</td>\n",
       "      <td>2</td>\n",
       "      <td>1999</td>\n",
       "      <td>3</td>\n",
       "      <td>1</td>\n",
       "      <td>0</td>\n",
       "      <td>1</td>\n",
       "      <td>1.0</td>\n",
       "    </tr>\n",
       "    <tr>\n",
       "      <th>149</th>\n",
       "      <td>5/1/22 7:17</td>\n",
       "      <td>5/1/22 7:25</td>\n",
       "      <td>0</td>\n",
       "      <td>87.115.131.226</td>\n",
       "      <td>100</td>\n",
       "      <td>501</td>\n",
       "      <td>1</td>\n",
       "      <td>5/1/22 7:25</td>\n",
       "      <td>R_4MVUnqERmyLkocF</td>\n",
       "      <td>0.0</td>\n",
       "      <td>...</td>\n",
       "      <td>7</td>\n",
       "      <td>0</td>\n",
       "      <td>6</td>\n",
       "      <td>1</td>\n",
       "      <td>2001</td>\n",
       "      <td>2</td>\n",
       "      <td>1</td>\n",
       "      <td>0</td>\n",
       "      <td>1</td>\n",
       "      <td>1.0</td>\n",
       "    </tr>\n",
       "    <tr>\n",
       "      <th>150</th>\n",
       "      <td>5/3/22 13:32</td>\n",
       "      <td>5/3/22 13:46</td>\n",
       "      <td>0</td>\n",
       "      <td>155.246.63.46</td>\n",
       "      <td>100</td>\n",
       "      <td>838</td>\n",
       "      <td>1</td>\n",
       "      <td>5/3/22 13:46</td>\n",
       "      <td>R_2ahIZIegcLUNTDU</td>\n",
       "      <td>0.0</td>\n",
       "      <td>...</td>\n",
       "      <td>0</td>\n",
       "      <td>0</td>\n",
       "      <td>0</td>\n",
       "      <td>2</td>\n",
       "      <td>2003</td>\n",
       "      <td>3</td>\n",
       "      <td>1</td>\n",
       "      <td>0</td>\n",
       "      <td>1</td>\n",
       "      <td>11.0</td>\n",
       "    </tr>\n",
       "    <tr>\n",
       "      <th>151</th>\n",
       "      <td>5/3/22 13:40</td>\n",
       "      <td>5/3/22 13:59</td>\n",
       "      <td>0</td>\n",
       "      <td>155.246.208.31</td>\n",
       "      <td>100</td>\n",
       "      <td>1114</td>\n",
       "      <td>1</td>\n",
       "      <td>5/3/22 13:59</td>\n",
       "      <td>R_28B2hHX9SQYCgQ1</td>\n",
       "      <td>0.0</td>\n",
       "      <td>...</td>\n",
       "      <td>3</td>\n",
       "      <td>4</td>\n",
       "      <td>7</td>\n",
       "      <td>2</td>\n",
       "      <td>2003</td>\n",
       "      <td>2</td>\n",
       "      <td>1</td>\n",
       "      <td>0</td>\n",
       "      <td>1</td>\n",
       "      <td>0.0</td>\n",
       "    </tr>\n",
       "    <tr>\n",
       "      <th>152</th>\n",
       "      <td>5/3/22 13:40</td>\n",
       "      <td>5/3/22 14:01</td>\n",
       "      <td>0</td>\n",
       "      <td>155.246.169.25</td>\n",
       "      <td>100</td>\n",
       "      <td>1266</td>\n",
       "      <td>1</td>\n",
       "      <td>5/3/22 14:02</td>\n",
       "      <td>R_z8V7Pbza4PNkH7j</td>\n",
       "      <td>0.0</td>\n",
       "      <td>...</td>\n",
       "      <td>0</td>\n",
       "      <td>0</td>\n",
       "      <td>10</td>\n",
       "      <td>2</td>\n",
       "      <td>2004</td>\n",
       "      <td>3</td>\n",
       "      <td>2</td>\n",
       "      <td>0</td>\n",
       "      <td>1</td>\n",
       "      <td>11.0</td>\n",
       "    </tr>\n",
       "  </tbody>\n",
       "</table>\n",
       "<p>148 rows × 129 columns</p>\n",
       "</div>"
      ],
      "text/plain": [
       "         StartDate        EndDate  Status       IPAddress  Progress  \\\n",
       "0    4/23/22 11:58  4/23/22 12:06       0   69.14.146.241       100   \n",
       "1    4/23/22 11:59  4/23/22 12:10       0  151.225.175.73       100   \n",
       "2    4/23/22 11:58  4/23/22 12:11       0     86.7.172.93       100   \n",
       "3    4/23/22 12:00  4/23/22 12:15       0    146.90.88.36       100   \n",
       "4    4/23/22 12:07  4/23/22 12:15       0    79.71.30.175       100   \n",
       "..             ...            ...     ...             ...       ...   \n",
       "148    5/1/22 6:54    5/1/22 7:06       0    92.233.55.48       100   \n",
       "149    5/1/22 7:17    5/1/22 7:25       0  87.115.131.226       100   \n",
       "150   5/3/22 13:32   5/3/22 13:46       0   155.246.63.46       100   \n",
       "151   5/3/22 13:40   5/3/22 13:59       0  155.246.208.31       100   \n",
       "152   5/3/22 13:40   5/3/22 14:01       0  155.246.169.25       100   \n",
       "\n",
       "     Duration (in seconds)  Finished   RecordedDate         ResponseId  \\\n",
       "0                      471         1  4/23/22 12:06  R_a3LgC44oQLNt5BL   \n",
       "1                      703         1  4/23/22 12:10  R_1jUQxNbIZ0JrqOB   \n",
       "2                      804         1  4/23/22 12:11  R_RV5e8YJ5bJwrJsZ   \n",
       "3                      906         1  4/23/22 12:15  R_1FhAhCAxjVQUEAa   \n",
       "4                      462         1  4/23/22 12:15  R_2QVyTh3Olz3Yxvu   \n",
       "..                     ...       ...            ...                ...   \n",
       "148                    683         1    5/1/22 7:06  R_2EzRvgvTxuoCufZ   \n",
       "149                    501         1    5/1/22 7:25  R_4MVUnqERmyLkocF   \n",
       "150                    838         1   5/3/22 13:46  R_2ahIZIegcLUNTDU   \n",
       "151                   1114         1   5/3/22 13:59  R_28B2hHX9SQYCgQ1   \n",
       "152                   1266         1   5/3/22 14:02  R_z8V7Pbza4PNkH7j   \n",
       "\n",
       "     RecipientLastName  ...  Q34_6  Q34_7  Q34_8  Q35   Q37 Q38 Q39  \\\n",
       "0                  0.0  ...      1      0      6    2  1999   3   1   \n",
       "1                  0.0  ...      1      0      7    2  2001   2   1   \n",
       "2                  0.0  ...      1      0      2    2  2002   3   4   \n",
       "3                  0.0  ...      0      0      7    1  2000   3   1   \n",
       "4                  0.0  ...      0      0      5    2  2001   2   6   \n",
       "..                 ...  ...    ...    ...    ...  ...   ...  ..  ..   \n",
       "148                0.0  ...      2      0      5    2  1999   3   1   \n",
       "149                0.0  ...      7      0      6    1  2001   2   1   \n",
       "150                0.0  ...      0      0      0    2  2003   3   1   \n",
       "151                0.0  ...      3      4      7    2  2003   2   1   \n",
       "152                0.0  ...      0      0     10    2  2004   3   2   \n",
       "\n",
       "     Q39_6_TEXT Q40   Q41  \n",
       "0             0   1  11.0  \n",
       "1             0   1  11.0  \n",
       "2             0   1   7.0  \n",
       "3             0   1   4.0  \n",
       "4     Pakistani   1   2.0  \n",
       "..          ...  ..   ...  \n",
       "148           0   1   1.0  \n",
       "149           0   1   1.0  \n",
       "150           0   1  11.0  \n",
       "151           0   1   0.0  \n",
       "152           0   1  11.0  \n",
       "\n",
       "[148 rows x 129 columns]"
      ]
     },
     "execution_count": 5,
     "metadata": {},
     "output_type": "execute_result"
    }
   ],
   "source": [
    "df = df1[(df1.Q2 != '60d8d57e8cda444117347525' ) & (df1.Q2 != '5f6f31f7a28898067fb4c50f') & (df1.Q2 != '5eb54c7d324cf904c5ae20db') & (df1.Q2 != '5c913839a6e0aa00162c2ca5') & (df1.Q2 != '5bd4f33c4b4f9e0001130cc5' ) & (df1.Q2 != '612865b9193239815830941c') & (df1.Q2 != '5c6f00110b99a000018cc3c1')]\n",
    "df"
   ]
  },
  {
   "cell_type": "markdown",
   "id": "c4d54719",
   "metadata": {},
   "source": [
    "###### "
   ]
  },
  {
   "cell_type": "code",
   "execution_count": 6,
   "id": "32f66d01",
   "metadata": {},
   "outputs": [
    {
     "name": "stdout",
     "output_type": "stream",
     "text": [
      "0      1\n",
      "1      0\n",
      "2      0\n",
      "3      1\n",
      "4      0\n",
      "      ..\n",
      "148    0\n",
      "149    0\n",
      "150    0\n",
      "151    1\n",
      "152    0\n",
      "Name: Q6a, Length: 148, dtype: object\n"
     ]
    }
   ],
   "source": [
    "def value1(x):\n",
    "    if x == 0:\n",
    "        return '0'\n",
    "    else:\n",
    "        return '1'\n",
    "    \n",
    "df['Q6a'] = df['Q6'].apply(value1)\n",
    "print(df.Q6a)    "
   ]
  },
  {
   "cell_type": "code",
   "execution_count": 7,
   "id": "00f06e3f",
   "metadata": {},
   "outputs": [
    {
     "name": "stdout",
     "output_type": "stream",
     "text": [
      "0      0\n",
      "1      0\n",
      "2      2\n",
      "3      0\n",
      "4      2\n",
      "      ..\n",
      "148    2\n",
      "149    0\n",
      "150    2\n",
      "151    0\n",
      "152    0\n",
      "Name: Q8a, Length: 148, dtype: object\n"
     ]
    }
   ],
   "source": [
    "def value2(y):\n",
    "    if y == 0:\n",
    "        return '0'\n",
    "    else:\n",
    "        return '2'\n",
    "    \n",
    "df['Q8a'] = df['Q8'].apply(value2)\n",
    "print(df.Q8a)"
   ]
  },
  {
   "cell_type": "code",
   "execution_count": 8,
   "id": "160d895a",
   "metadata": {},
   "outputs": [
    {
     "name": "stdout",
     "output_type": "stream",
     "text": [
      "0      0\n",
      "1      3\n",
      "2      0\n",
      "3      0\n",
      "4      0\n",
      "      ..\n",
      "148    0\n",
      "149    3\n",
      "150    0\n",
      "151    0\n",
      "152    3\n",
      "Name: Q10a, Length: 148, dtype: object\n"
     ]
    }
   ],
   "source": [
    "def value3(z):\n",
    "    if z == 0:\n",
    "        return '0'\n",
    "    else:\n",
    "        return '3'\n",
    "    \n",
    "df['Q10a'] = df['Q10'].apply(value3)\n",
    "print(df.Q10a)"
   ]
  },
  {
   "cell_type": "code",
   "execution_count": 9,
   "id": "62ee4373",
   "metadata": {},
   "outputs": [
    {
     "data": {
      "text/plain": [
       "0      1\n",
       "1      3\n",
       "2      2\n",
       "3      1\n",
       "4      2\n",
       "      ..\n",
       "148    2\n",
       "149    3\n",
       "150    2\n",
       "151    1\n",
       "152    3\n",
       "Name: affect_mani, Length: 148, dtype: int64"
      ]
     },
     "execution_count": 9,
     "metadata": {},
     "output_type": "execute_result"
    }
   ],
   "source": [
    "df['affect_mani'] = df[\"Q6a\"].astype('int') + df[\"Q8a\"].astype('int')  +  df[\"Q10a\"].astype('int') \n",
    "df.affect_mani"
   ]
  },
  {
   "cell_type": "code",
   "execution_count": 10,
   "id": "80559837",
   "metadata": {},
   "outputs": [
    {
     "data": {
      "text/plain": [
       "0      positive\n",
       "1             0\n",
       "2             0\n",
       "3      positive\n",
       "4             0\n",
       "         ...   \n",
       "148           0\n",
       "149           0\n",
       "150           0\n",
       "151    positive\n",
       "152           0\n",
       "Name: a, Length: 148, dtype: object"
      ]
     },
     "execution_count": 10,
     "metadata": {},
     "output_type": "execute_result"
    }
   ],
   "source": [
    "df['a'] = df['Q6a'].apply(str).str.replace('1','positive')\n",
    "df['a']"
   ]
  },
  {
   "cell_type": "code",
   "execution_count": 11,
   "id": "fb8326bc",
   "metadata": {},
   "outputs": [
    {
     "data": {
      "text/plain": [
       "0             0\n",
       "1             0\n",
       "2      negative\n",
       "3             0\n",
       "4      negative\n",
       "         ...   \n",
       "148    negative\n",
       "149           0\n",
       "150    negative\n",
       "151           0\n",
       "152           0\n",
       "Name: b, Length: 148, dtype: object"
      ]
     },
     "execution_count": 11,
     "metadata": {},
     "output_type": "execute_result"
    }
   ],
   "source": [
    "df['b'] = df['Q8a'].apply(str).str.replace('2','negative')\n",
    "df['b']"
   ]
  },
  {
   "cell_type": "code",
   "execution_count": 12,
   "id": "5c33be7f",
   "metadata": {},
   "outputs": [
    {
     "data": {
      "text/plain": [
       "0            0\n",
       "1      neutral\n",
       "2            0\n",
       "3            0\n",
       "4            0\n",
       "        ...   \n",
       "148          0\n",
       "149    neutral\n",
       "150          0\n",
       "151          0\n",
       "152    neutral\n",
       "Name: c, Length: 148, dtype: object"
      ]
     },
     "execution_count": 12,
     "metadata": {},
     "output_type": "execute_result"
    }
   ],
   "source": [
    "df['c'] = df['Q10a'].apply(str).str.replace('3','neutral')\n",
    "df['c']"
   ]
  },
  {
   "cell_type": "code",
   "execution_count": 13,
   "id": "0e4ee986",
   "metadata": {},
   "outputs": [
    {
     "data": {
      "text/plain": [
       "0      positive\n",
       "1             3\n",
       "2             2\n",
       "3      positive\n",
       "4             2\n",
       "         ...   \n",
       "148           2\n",
       "149           3\n",
       "150           2\n",
       "151    positive\n",
       "152           3\n",
       "Name: emotion1, Length: 148, dtype: object"
      ]
     },
     "execution_count": 13,
     "metadata": {},
     "output_type": "execute_result"
    }
   ],
   "source": [
    "df['emotion1'] = df['affect_mani'].apply(str).str.replace('1','positive')\n",
    "df['emotion1']"
   ]
  },
  {
   "cell_type": "code",
   "execution_count": 14,
   "id": "f53db437",
   "metadata": {},
   "outputs": [
    {
     "data": {
      "text/plain": [
       "0      positive\n",
       "1             3\n",
       "2      negative\n",
       "3      positive\n",
       "4      negative\n",
       "         ...   \n",
       "148    negative\n",
       "149           3\n",
       "150    negative\n",
       "151    positive\n",
       "152           3\n",
       "Name: emotion2, Length: 148, dtype: object"
      ]
     },
     "execution_count": 14,
     "metadata": {},
     "output_type": "execute_result"
    }
   ],
   "source": [
    "df['emotion2'] = df['emotion1'].apply(str).str.replace('2','negative')\n",
    "df['emotion2']"
   ]
  },
  {
   "cell_type": "code",
   "execution_count": 15,
   "id": "f4ebcd83",
   "metadata": {},
   "outputs": [
    {
     "data": {
      "text/plain": [
       "0      positive\n",
       "1       neutral\n",
       "2      negative\n",
       "3      positive\n",
       "4      negative\n",
       "         ...   \n",
       "148    negative\n",
       "149     neutral\n",
       "150    negative\n",
       "151    positive\n",
       "152     neutral\n",
       "Name: Emotional condition, Length: 148, dtype: object"
      ]
     },
     "execution_count": 15,
     "metadata": {},
     "output_type": "execute_result"
    }
   ],
   "source": [
    "df['Emotional condition'] = df['emotion2'].apply(str).str.replace('3','neutral')\n",
    "df['Emotional condition']"
   ]
  },
  {
   "cell_type": "code",
   "execution_count": 16,
   "id": "148ed687",
   "metadata": {},
   "outputs": [
    {
     "name": "stdout",
     "output_type": "stream",
     "text": [
      "affect_mani\n",
      "1    1.554290\n",
      "2    1.621759\n",
      "3    1.142143\n",
      "Name: Q12, dtype: float64\n",
      "affect_mani\n",
      "1    7.204082\n",
      "2    3.489796\n",
      "3    4.960000\n",
      "Name: Q12, dtype: float64\n"
     ]
    }
   ],
   "source": [
    "a=df.groupby('affect_mani')['Q12'].std()\n",
    "print(a)\n",
    "b=df.groupby('affect_mani')['Q12'].mean()\n",
    "print(b)"
   ]
  },
  {
   "cell_type": "code",
   "execution_count": 17,
   "id": "d62892fd",
   "metadata": {},
   "outputs": [
    {
     "name": "stdout",
     "output_type": "stream",
     "text": [
      "affect_mani\n",
      "1    1.527525\n",
      "2    1.670574\n",
      "3    1.249326\n",
      "Name: Q17, dtype: float64\n",
      "affect_mani\n",
      "1    5.857143\n",
      "2    5.204082\n",
      "3    5.520000\n",
      "Name: Q17, dtype: float64\n"
     ]
    }
   ],
   "source": [
    "c=df.groupby('affect_mani')['Q17'].std()\n",
    "print(c)\n",
    "d=df.groupby('affect_mani')['Q17'].mean()\n",
    "print(d)"
   ]
  },
  {
   "cell_type": "code",
   "execution_count": 18,
   "id": "b292c60f",
   "metadata": {},
   "outputs": [
    {
     "data": {
      "text/plain": [
       "0     -2\n",
       "1     -2\n",
       "2      2\n",
       "3      1\n",
       "4      0\n",
       "      ..\n",
       "148    1\n",
       "149    0\n",
       "150    5\n",
       "151   -1\n",
       "152    2\n",
       "Name: change, Length: 148, dtype: int64"
      ]
     },
     "execution_count": 18,
     "metadata": {},
     "output_type": "execute_result"
    }
   ],
   "source": [
    "df[\"change\"]=df[\"Q17\"] - df[\"Q12\"]\n",
    "df[\"change\"]"
   ]
  },
  {
   "cell_type": "code",
   "execution_count": 19,
   "id": "6cde4dba",
   "metadata": {},
   "outputs": [
    {
     "name": "stdout",
     "output_type": "stream",
     "text": [
      "affect_mani\n",
      "1   -0.026764\n",
      "2    0.048815\n",
      "3    0.107184\n",
      "dtype: float64\n",
      "affect_mani\n",
      "1   -1.346939\n",
      "2    1.714286\n",
      "3    0.560000\n",
      "dtype: float64\n"
     ]
    }
   ],
   "source": [
    "e=c-a\n",
    "print(e)\n",
    "f=d-b\n",
    "print(f)"
   ]
  },
  {
   "cell_type": "code",
   "execution_count": 20,
   "id": "ea19bad5",
   "metadata": {},
   "outputs": [
    {
     "name": "stdout",
     "output_type": "stream",
     "text": [
      "0      1\n",
      "1      0\n",
      "2      1\n",
      "3      1\n",
      "4      0\n",
      "      ..\n",
      "148    1\n",
      "149    0\n",
      "150    1\n",
      "151    0\n",
      "152    1\n",
      "Name: Q14a, Length: 148, dtype: object\n"
     ]
    }
   ],
   "source": [
    "def value4(x):\n",
    "    if x == 0:\n",
    "        return '0'\n",
    "    else:\n",
    "        return '1'\n",
    "    \n",
    "df['Q14a'] = df['Q14_Click Count'].apply(value4)\n",
    "print(df.Q14a)"
   ]
  },
  {
   "cell_type": "code",
   "execution_count": 21,
   "id": "3e5d2703",
   "metadata": {},
   "outputs": [
    {
     "name": "stdout",
     "output_type": "stream",
     "text": [
      "0      0\n",
      "1      2\n",
      "2      0\n",
      "3      0\n",
      "4      2\n",
      "      ..\n",
      "148    0\n",
      "149    2\n",
      "150    0\n",
      "151    2\n",
      "152    0\n",
      "Name: Q16a, Length: 148, dtype: object\n"
     ]
    }
   ],
   "source": [
    "def value5(x):\n",
    "    if x == 0:\n",
    "        return '0'\n",
    "    else:\n",
    "        return '2'\n",
    "    \n",
    "df['Q16a'] = df['Q16_Click Count'].apply(value5)\n",
    "print(df.Q16a)"
   ]
  },
  {
   "cell_type": "code",
   "execution_count": 22,
   "id": "966febf5",
   "metadata": {},
   "outputs": [
    {
     "data": {
      "text/plain": [
       "0      1\n",
       "1      2\n",
       "2      1\n",
       "3      1\n",
       "4      2\n",
       "      ..\n",
       "148    1\n",
       "149    2\n",
       "150    1\n",
       "151    2\n",
       "152    1\n",
       "Name: bot, Length: 148, dtype: int64"
      ]
     },
     "execution_count": 22,
     "metadata": {},
     "output_type": "execute_result"
    }
   ],
   "source": [
    "df['bot'] = df[\"Q14a\"].astype('int') + df[\"Q16a\"].astype('int') \n",
    "df.bot"
   ]
  },
  {
   "cell_type": "code",
   "execution_count": 23,
   "id": "5a598b52",
   "metadata": {},
   "outputs": [
    {
     "data": {
      "text/plain": [
       "0      1\n",
       "1      2\n",
       "2      1\n",
       "3      1\n",
       "4      2\n",
       "      ..\n",
       "148    1\n",
       "149    2\n",
       "150    1\n",
       "151    2\n",
       "152    1\n",
       "Name: Bot, Length: 148, dtype: int64"
      ]
     },
     "execution_count": 23,
     "metadata": {},
     "output_type": "execute_result"
    }
   ],
   "source": [
    "df['Bot'] = df['bot'].replace(['2'],'-1')\n",
    "df.Bot"
   ]
  },
  {
   "cell_type": "code",
   "execution_count": 24,
   "id": "0dc07fd7",
   "metadata": {},
   "outputs": [
    {
     "data": {
      "text/plain": [
       "0      empathetic\n",
       "1               2\n",
       "2      empathetic\n",
       "3      empathetic\n",
       "4               2\n",
       "          ...    \n",
       "148    empathetic\n",
       "149             2\n",
       "150    empathetic\n",
       "151             2\n",
       "152    empathetic\n",
       "Name: bot1, Length: 148, dtype: object"
      ]
     },
     "execution_count": 24,
     "metadata": {},
     "output_type": "execute_result"
    }
   ],
   "source": [
    "df['bot1'] = df['bot'].apply(str).str.replace('1','empathetic')\n",
    "df['bot1']"
   ]
  },
  {
   "cell_type": "code",
   "execution_count": 25,
   "id": "a60e03d5",
   "metadata": {},
   "outputs": [
    {
     "data": {
      "text/plain": [
       "0          empathetic\n",
       "1      non-empathetic\n",
       "2          empathetic\n",
       "3          empathetic\n",
       "4      non-empathetic\n",
       "            ...      \n",
       "148        empathetic\n",
       "149    non-empathetic\n",
       "150        empathetic\n",
       "151    non-empathetic\n",
       "152        empathetic\n",
       "Name: Bot condition, Length: 148, dtype: object"
      ]
     },
     "execution_count": 25,
     "metadata": {},
     "output_type": "execute_result"
    }
   ],
   "source": [
    "df['Bot condition'] = df['bot1'].apply(str).str.replace('2','non-empathetic')\n",
    "df['Bot condition']"
   ]
  },
  {
   "cell_type": "code",
   "execution_count": 26,
   "id": "b2f2816c",
   "metadata": {},
   "outputs": [
    {
     "data": {
      "text/plain": [
       "0      empathetic\n",
       "1               0\n",
       "2      empathetic\n",
       "3      empathetic\n",
       "4               0\n",
       "          ...    \n",
       "148    empathetic\n",
       "149             0\n",
       "150    empathetic\n",
       "151             0\n",
       "152    empathetic\n",
       "Name: d, Length: 148, dtype: object"
      ]
     },
     "execution_count": 26,
     "metadata": {},
     "output_type": "execute_result"
    }
   ],
   "source": [
    "df['d'] = df['Q14a'].apply(str).str.replace('1','empathetic')\n",
    "df['d']"
   ]
  },
  {
   "cell_type": "code",
   "execution_count": 27,
   "id": "3c642d03",
   "metadata": {},
   "outputs": [
    {
     "data": {
      "text/plain": [
       "0                   0\n",
       "1      non-empathetic\n",
       "2                   0\n",
       "3                   0\n",
       "4      non-empathetic\n",
       "            ...      \n",
       "148                 0\n",
       "149    non-empathetic\n",
       "150                 0\n",
       "151    non-empathetic\n",
       "152                 0\n",
       "Name: e, Length: 148, dtype: object"
      ]
     },
     "execution_count": 27,
     "metadata": {},
     "output_type": "execute_result"
    }
   ],
   "source": [
    "df['e'] = df['Q16a'].apply(str).str.replace('2','non-empathetic')\n",
    "df['e']"
   ]
  },
  {
   "cell_type": "code",
   "execution_count": 28,
   "id": "a851b68c",
   "metadata": {},
   "outputs": [
    {
     "data": {
      "text/plain": [
       "2    75\n",
       "1    73\n",
       "Name: bot, dtype: int64"
      ]
     },
     "execution_count": 28,
     "metadata": {},
     "output_type": "execute_result"
    }
   ],
   "source": [
    "df['bot'].value_counts(dropna=False)"
   ]
  },
  {
   "cell_type": "code",
   "execution_count": 29,
   "id": "b73ca854",
   "metadata": {},
   "outputs": [],
   "source": [
    "import matplotlib.pyplot as plt\n",
    "import numpy as np\n",
    "from sklearn import datasets, linear_model, metrics\n",
    "from sklearn.model_selection import train_test_split\n",
    "from sklearn.linear_model import LinearRegression "
   ]
  },
  {
   "cell_type": "code",
   "execution_count": 30,
   "id": "48a5a443",
   "metadata": {},
   "outputs": [
    {
     "data": {
      "text/html": [
       "<table class=\"simpletable\">\n",
       "<tr>\n",
       "         <td></td>            <th>coef</th>     <th>std err</th>      <th>t</th>      <th>P>|t|</th>  <th>[0.025</th>    <th>0.975]</th>  \n",
       "</tr>\n",
       "<tr>\n",
       "  <th>Intercept</th>       <td>   -0.9558</td> <td>    1.329</td> <td>   -0.719</td> <td> 0.473</td> <td>   -3.583</td> <td>    1.672</td>\n",
       "</tr>\n",
       "<tr>\n",
       "  <th>affect_mani</th>     <td>    1.0156</td> <td>    0.610</td> <td>    1.666</td> <td> 0.098</td> <td>   -0.190</td> <td>    2.221</td>\n",
       "</tr>\n",
       "<tr>\n",
       "  <th>bot</th>             <td>   -0.4060</td> <td>    0.814</td> <td>   -0.498</td> <td> 0.619</td> <td>   -2.016</td> <td>    1.204</td>\n",
       "</tr>\n",
       "<tr>\n",
       "  <th>affect_mani:bot</th> <td>   -0.0532</td> <td>    0.375</td> <td>   -0.142</td> <td> 0.888</td> <td>   -0.795</td> <td>    0.689</td>\n",
       "</tr>\n",
       "</table>"
      ],
      "text/plain": [
       "<class 'statsmodels.iolib.table.SimpleTable'>"
      ]
     },
     "execution_count": 30,
     "metadata": {},
     "output_type": "execute_result"
    }
   ],
   "source": [
    "model = ols('change ~ affect_mani + bot + affect_mani:bot', data=df).fit()\n",
    "sm.stats.anova_lm(model, typ=2)\n",
    "summary = model.summary()\n",
    "summary.tables[1]"
   ]
  },
  {
   "cell_type": "code",
   "execution_count": 31,
   "id": "5889a488",
   "metadata": {},
   "outputs": [
    {
     "data": {
      "text/html": [
       "<table class=\"simpletable\">\n",
       "<tr>\n",
       "         <td></td>            <th>coef</th>     <th>std err</th>      <th>t</th>      <th>P>|t|</th>  <th>[0.025</th>    <th>0.975]</th>  \n",
       "</tr>\n",
       "<tr>\n",
       "  <th>Intercept</th>       <td>   -0.9558</td> <td>    1.329</td> <td>   -0.719</td> <td> 0.473</td> <td>   -3.583</td> <td>    1.672</td>\n",
       "</tr>\n",
       "<tr>\n",
       "  <th>affect_mani</th>     <td>    1.0156</td> <td>    0.610</td> <td>    1.666</td> <td> 0.098</td> <td>   -0.190</td> <td>    2.221</td>\n",
       "</tr>\n",
       "<tr>\n",
       "  <th>bot</th>             <td>   -0.4060</td> <td>    0.814</td> <td>   -0.498</td> <td> 0.619</td> <td>   -2.016</td> <td>    1.204</td>\n",
       "</tr>\n",
       "<tr>\n",
       "  <th>affect_mani:bot</th> <td>   -0.0532</td> <td>    0.375</td> <td>   -0.142</td> <td> 0.888</td> <td>   -0.795</td> <td>    0.689</td>\n",
       "</tr>\n",
       "</table>"
      ],
      "text/plain": [
       "<class 'statsmodels.iolib.table.SimpleTable'>"
      ]
     },
     "execution_count": 31,
     "metadata": {},
     "output_type": "execute_result"
    }
   ],
   "source": [
    "model_interaction = smf.ols(formula='change ~ affect_mani + bot + affect_mani:bot', data=df).fit()\n",
    "summary = model_interaction.summary()\n",
    "summary.tables[1]"
   ]
  },
  {
   "cell_type": "code",
   "execution_count": 32,
   "id": "97d35ff1",
   "metadata": {},
   "outputs": [
    {
     "data": {
      "image/png": "[encoded data removed]",
      "text/plain": [
       "<Figure size 576x432 with 1 Axes>"
      ]
     },
     "metadata": {
      "needs_background": "light"
     },
     "output_type": "display_data"
    }
   ],
   "source": [
    "f, ax = plt.subplots(figsize=(8, 6))\n",
    "sns.boxplot(x=\"Emotional condition\", y=\"change\", hue=\"Bot condition\", data=df)\n",
    "plt.show()"
   ]
  },
  {
   "cell_type": "markdown",
   "id": "cd503b24",
   "metadata": {},
   "source": [
    "1.Emotional Acknowledgement"
   ]
  },
  {
   "cell_type": "code",
   "execution_count": 33,
   "id": "8d166e19",
   "metadata": {},
   "outputs": [],
   "source": [
    "df['Q18_3'] = df['Q18_3'].map({1:5, 2:4, 3:3, 4:2, 5:1})\n",
    "df['Q18_4'] = df['Q18_4'].map({1:5, 2:4, 3:3, 4:2, 5:1})"
   ]
  },
  {
   "cell_type": "code",
   "execution_count": 34,
   "id": "b4d38cec",
   "metadata": {},
   "outputs": [
    {
     "data": {
      "text/plain": [
       "0      3.75\n",
       "1      1.75\n",
       "2      4.25\n",
       "3      3.25\n",
       "4      1.00\n",
       "       ... \n",
       "148    3.75\n",
       "149    1.00\n",
       "150    5.00\n",
       "151    1.50\n",
       "152    4.75\n",
       "Name: EA_avg, Length: 148, dtype: float64"
      ]
     },
     "execution_count": 34,
     "metadata": {},
     "output_type": "execute_result"
    }
   ],
   "source": [
    "df['EA_avg'] = df[['Q18_1','Q18_2','Q18_3','Q18_4']].mean(axis=1)\n",
    "df['EA_avg']"
   ]
  },
  {
   "cell_type": "code",
   "execution_count": 35,
   "id": "b573758e",
   "metadata": {},
   "outputs": [
    {
     "data": {
      "text/html": [
       "<table class=\"simpletable\">\n",
       "<tr>\n",
       "         <td></td>            <th>coef</th>     <th>std err</th>      <th>t</th>      <th>P>|t|</th>  <th>[0.025</th>    <th>0.975]</th>  \n",
       "</tr>\n",
       "<tr>\n",
       "  <th>Intercept</th>       <td>    5.5254</td> <td>    0.638</td> <td>    8.659</td> <td> 0.000</td> <td>    4.264</td> <td>    6.787</td>\n",
       "</tr>\n",
       "<tr>\n",
       "  <th>affect_mani</th>     <td>    0.0082</td> <td>    0.293</td> <td>    0.028</td> <td> 0.978</td> <td>   -0.570</td> <td>    0.587</td>\n",
       "</tr>\n",
       "<tr>\n",
       "  <th>bot</th>             <td>   -1.8643</td> <td>    0.391</td> <td>   -4.768</td> <td> 0.000</td> <td>   -2.637</td> <td>   -1.091</td>\n",
       "</tr>\n",
       "<tr>\n",
       "  <th>affect_mani:bot</th> <td>    0.0068</td> <td>    0.180</td> <td>    0.038</td> <td> 0.970</td> <td>   -0.349</td> <td>    0.363</td>\n",
       "</tr>\n",
       "</table>"
      ],
      "text/plain": [
       "<class 'statsmodels.iolib.table.SimpleTable'>"
      ]
     },
     "execution_count": 35,
     "metadata": {},
     "output_type": "execute_result"
    }
   ],
   "source": [
    "model = ols('EA_avg ~ affect_mani + bot + affect_mani:bot', data=df).fit()\n",
    "sm.stats.anova_lm(model, typ=2)\n",
    "summary = model.summary()\n",
    "summary.tables[1]"
   ]
  },
  {
   "cell_type": "code",
   "execution_count": 36,
   "id": "bab61572",
   "metadata": {},
   "outputs": [
    {
     "data": {
      "text/html": [
       "<table class=\"simpletable\">\n",
       "<tr>\n",
       "         <td></td>            <th>coef</th>     <th>std err</th>      <th>t</th>      <th>P>|t|</th>  <th>[0.025</th>    <th>0.975]</th>  \n",
       "</tr>\n",
       "<tr>\n",
       "  <th>Intercept</th>       <td>    5.5254</td> <td>    0.638</td> <td>    8.659</td> <td> 0.000</td> <td>    4.264</td> <td>    6.787</td>\n",
       "</tr>\n",
       "<tr>\n",
       "  <th>affect_mani</th>     <td>    0.0082</td> <td>    0.293</td> <td>    0.028</td> <td> 0.978</td> <td>   -0.570</td> <td>    0.587</td>\n",
       "</tr>\n",
       "<tr>\n",
       "  <th>bot</th>             <td>   -1.8643</td> <td>    0.391</td> <td>   -4.768</td> <td> 0.000</td> <td>   -2.637</td> <td>   -1.091</td>\n",
       "</tr>\n",
       "<tr>\n",
       "  <th>affect_mani:bot</th> <td>    0.0068</td> <td>    0.180</td> <td>    0.038</td> <td> 0.970</td> <td>   -0.349</td> <td>    0.363</td>\n",
       "</tr>\n",
       "</table>"
      ],
      "text/plain": [
       "<class 'statsmodels.iolib.table.SimpleTable'>"
      ]
     },
     "execution_count": 36,
     "metadata": {},
     "output_type": "execute_result"
    }
   ],
   "source": [
    "model_interaction = smf.ols(formula='EA_avg ~ affect_mani + bot + affect_mani:bot', data=df).fit()\n",
    "summary = model_interaction.summary()\n",
    "summary.tables[1]"
   ]
  },
  {
   "cell_type": "code",
   "execution_count": 37,
   "id": "1f09d5f4",
   "metadata": {},
   "outputs": [
    {
     "data": {
      "image/png": "[encoded data removed]",
      "text/plain": [
       "<Figure size 576x432 with 1 Axes>"
      ]
     },
     "metadata": {
      "needs_background": "light"
     },
     "output_type": "display_data"
    }
   ],
   "source": [
    "f, ax = plt.subplots(figsize=(8, 6))\n",
    "sns.boxplot(x=\"Emotional condition\", y=\"EA_avg\", hue=\"Bot condition\", data=df)\n",
    "plt.show()"
   ]
  },
  {
   "cell_type": "markdown",
   "id": "fadc0eb3",
   "metadata": {},
   "source": [
    "2.Trust on Chatbot"
   ]
  },
  {
   "cell_type": "code",
   "execution_count": 38,
   "id": "a89f2450",
   "metadata": {},
   "outputs": [
    {
     "data": {
      "text/plain": [
       "0      3.75\n",
       "1      2.25\n",
       "2      4.00\n",
       "3      3.75\n",
       "4      2.00\n",
       "       ... \n",
       "148    2.50\n",
       "149    1.50\n",
       "150    5.00\n",
       "151    2.50\n",
       "152    4.25\n",
       "Name: TOC_avg, Length: 148, dtype: float64"
      ]
     },
     "execution_count": 38,
     "metadata": {},
     "output_type": "execute_result"
    }
   ],
   "source": [
    "df['TOC_avg'] = df[['Q19_1','Q19_2','Q19_3','Q19_4']].mean(axis=1)\n",
    "df['TOC_avg']"
   ]
  },
  {
   "cell_type": "code",
   "execution_count": 39,
   "id": "19abdb0d",
   "metadata": {
    "scrolled": true
   },
   "outputs": [
    {
     "data": {
      "text/html": [
       "<table class=\"simpletable\">\n",
       "<tr>\n",
       "         <td></td>            <th>coef</th>     <th>std err</th>      <th>t</th>      <th>P>|t|</th>  <th>[0.025</th>    <th>0.975]</th>  \n",
       "</tr>\n",
       "<tr>\n",
       "  <th>Intercept</th>       <td>    3.9014</td> <td>    0.642</td> <td>    6.078</td> <td> 0.000</td> <td>    2.633</td> <td>    5.170</td>\n",
       "</tr>\n",
       "<tr>\n",
       "  <th>affect_mani</th>     <td>    0.0140</td> <td>    0.294</td> <td>    0.048</td> <td> 0.962</td> <td>   -0.568</td> <td>    0.596</td>\n",
       "</tr>\n",
       "<tr>\n",
       "  <th>bot</th>             <td>   -0.4883</td> <td>    0.393</td> <td>   -1.242</td> <td> 0.216</td> <td>   -1.266</td> <td>    0.289</td>\n",
       "</tr>\n",
       "<tr>\n",
       "  <th>affect_mani:bot</th> <td>   -0.0285</td> <td>    0.181</td> <td>   -0.157</td> <td> 0.875</td> <td>   -0.387</td> <td>    0.330</td>\n",
       "</tr>\n",
       "</table>"
      ],
      "text/plain": [
       "<class 'statsmodels.iolib.table.SimpleTable'>"
      ]
     },
     "execution_count": 39,
     "metadata": {},
     "output_type": "execute_result"
    }
   ],
   "source": [
    "model = ols('TOC_avg ~ affect_mani + bot + affect_mani:bot', data=df).fit()\n",
    "sm.stats.anova_lm(model, typ=2)\n",
    "summary = model.summary()\n",
    "summary.tables[1]"
   ]
  },
  {
   "cell_type": "code",
   "execution_count": 40,
   "id": "2fbd6238",
   "metadata": {},
   "outputs": [
    {
     "data": {
      "text/html": [
       "<table class=\"simpletable\">\n",
       "<tr>\n",
       "         <td></td>            <th>coef</th>     <th>std err</th>      <th>t</th>      <th>P>|t|</th>  <th>[0.025</th>    <th>0.975]</th>  \n",
       "</tr>\n",
       "<tr>\n",
       "  <th>Intercept</th>       <td>    3.9014</td> <td>    0.642</td> <td>    6.078</td> <td> 0.000</td> <td>    2.633</td> <td>    5.170</td>\n",
       "</tr>\n",
       "<tr>\n",
       "  <th>affect_mani</th>     <td>    0.0140</td> <td>    0.294</td> <td>    0.048</td> <td> 0.962</td> <td>   -0.568</td> <td>    0.596</td>\n",
       "</tr>\n",
       "<tr>\n",
       "  <th>bot</th>             <td>   -0.4883</td> <td>    0.393</td> <td>   -1.242</td> <td> 0.216</td> <td>   -1.266</td> <td>    0.289</td>\n",
       "</tr>\n",
       "<tr>\n",
       "  <th>affect_mani:bot</th> <td>   -0.0285</td> <td>    0.181</td> <td>   -0.157</td> <td> 0.875</td> <td>   -0.387</td> <td>    0.330</td>\n",
       "</tr>\n",
       "</table>"
      ],
      "text/plain": [
       "<class 'statsmodels.iolib.table.SimpleTable'>"
      ]
     },
     "execution_count": 40,
     "metadata": {},
     "output_type": "execute_result"
    }
   ],
   "source": [
    "model_interaction = smf.ols(formula='TOC_avg ~ affect_mani + bot + affect_mani:bot', data=df).fit()\n",
    "summary = model_interaction.summary()\n",
    "summary.tables[1]"
   ]
  },
  {
   "cell_type": "code",
   "execution_count": 41,
   "id": "d71c4425",
   "metadata": {},
   "outputs": [
    {
     "data": {
      "image/png": "[encoded data removed]",
      "text/plain": [
       "<Figure size 576x432 with 1 Axes>"
      ]
     },
     "metadata": {
      "needs_background": "light"
     },
     "output_type": "display_data"
    }
   ],
   "source": [
    "f, ax = plt.subplots(figsize=(8, 6))\n",
    "sns.boxplot(x=\"Emotional condition\", y=\"TOC_avg\", hue=\"Bot condition\", data=df)\n",
    "plt.show()"
   ]
  },
  {
   "cell_type": "markdown",
   "id": "9aafd9c2",
   "metadata": {},
   "source": [
    "3.Effort"
   ]
  },
  {
   "cell_type": "code",
   "execution_count": 42,
   "id": "78e9b766",
   "metadata": {},
   "outputs": [],
   "source": [
    "df['Q20_3'] = df['Q20_3'].map({1:5, 2:4, 3:3, 4:2, 5:1})"
   ]
  },
  {
   "cell_type": "code",
   "execution_count": 43,
   "id": "5e665eda",
   "metadata": {},
   "outputs": [
    {
     "data": {
      "text/plain": [
       "0      3.8\n",
       "1      3.6\n",
       "2      3.2\n",
       "3      3.8\n",
       "4      1.0\n",
       "      ... \n",
       "148    1.2\n",
       "149    1.6\n",
       "150    5.0\n",
       "151    2.4\n",
       "152    3.4\n",
       "Name: E_avg, Length: 148, dtype: float64"
      ]
     },
     "execution_count": 43,
     "metadata": {},
     "output_type": "execute_result"
    }
   ],
   "source": [
    "df['E_avg'] = df[['Q20_1','Q20_2','Q20_4','Q20_5','Q20_6']].mean(axis=1)\n",
    "df['E_avg']"
   ]
  },
  {
   "cell_type": "code",
   "execution_count": 44,
   "id": "5be85a91",
   "metadata": {},
   "outputs": [
    {
     "data": {
      "text/html": [
       "<table class=\"simpletable\">\n",
       "<tr>\n",
       "         <td></td>            <th>coef</th>     <th>std err</th>      <th>t</th>      <th>P>|t|</th>  <th>[0.025</th>    <th>0.975]</th>  \n",
       "</tr>\n",
       "<tr>\n",
       "  <th>Intercept</th>       <td>    4.3153</td> <td>    0.746</td> <td>    5.784</td> <td> 0.000</td> <td>    2.840</td> <td>    5.790</td>\n",
       "</tr>\n",
       "<tr>\n",
       "  <th>affect_mani</th>     <td>   -0.2105</td> <td>    0.342</td> <td>   -0.615</td> <td> 0.540</td> <td>   -0.887</td> <td>    0.466</td>\n",
       "</tr>\n",
       "<tr>\n",
       "  <th>bot</th>             <td>   -0.6831</td> <td>    0.457</td> <td>   -1.494</td> <td> 0.137</td> <td>   -1.587</td> <td>    0.220</td>\n",
       "</tr>\n",
       "<tr>\n",
       "  <th>affect_mani:bot</th> <td>    0.1262</td> <td>    0.211</td> <td>    0.599</td> <td> 0.550</td> <td>   -0.290</td> <td>    0.543</td>\n",
       "</tr>\n",
       "</table>"
      ],
      "text/plain": [
       "<class 'statsmodels.iolib.table.SimpleTable'>"
      ]
     },
     "execution_count": 44,
     "metadata": {},
     "output_type": "execute_result"
    }
   ],
   "source": [
    "model = ols('E_avg ~ affect_mani + bot + affect_mani:bot', data=df).fit()\n",
    "sm.stats.anova_lm(model, typ=2)\n",
    "summary = model.summary()\n",
    "summary.tables[1]"
   ]
  },
  {
   "cell_type": "code",
   "execution_count": 45,
   "id": "9eb49063",
   "metadata": {},
   "outputs": [
    {
     "data": {
      "text/html": [
       "<table class=\"simpletable\">\n",
       "<tr>\n",
       "         <td></td>            <th>coef</th>     <th>std err</th>      <th>t</th>      <th>P>|t|</th>  <th>[0.025</th>    <th>0.975]</th>  \n",
       "</tr>\n",
       "<tr>\n",
       "  <th>Intercept</th>       <td>    4.3153</td> <td>    0.746</td> <td>    5.784</td> <td> 0.000</td> <td>    2.840</td> <td>    5.790</td>\n",
       "</tr>\n",
       "<tr>\n",
       "  <th>affect_mani</th>     <td>   -0.2105</td> <td>    0.342</td> <td>   -0.615</td> <td> 0.540</td> <td>   -0.887</td> <td>    0.466</td>\n",
       "</tr>\n",
       "<tr>\n",
       "  <th>bot</th>             <td>   -0.6831</td> <td>    0.457</td> <td>   -1.494</td> <td> 0.137</td> <td>   -1.587</td> <td>    0.220</td>\n",
       "</tr>\n",
       "<tr>\n",
       "  <th>affect_mani:bot</th> <td>    0.1262</td> <td>    0.211</td> <td>    0.599</td> <td> 0.550</td> <td>   -0.290</td> <td>    0.543</td>\n",
       "</tr>\n",
       "</table>"
      ],
      "text/plain": [
       "<class 'statsmodels.iolib.table.SimpleTable'>"
      ]
     },
     "execution_count": 45,
     "metadata": {},
     "output_type": "execute_result"
    }
   ],
   "source": [
    "model_interaction = smf.ols(formula='E_avg ~ affect_mani + bot + affect_mani:bot', data=df).fit()\n",
    "summary = model_interaction.summary()\n",
    "summary.tables[1]"
   ]
  },
  {
   "cell_type": "code",
   "execution_count": 46,
   "id": "2095823e",
   "metadata": {},
   "outputs": [
    {
     "data": {
      "image/png": "[encoded data removed]",
      "text/plain": [
       "<Figure size 576x432 with 1 Axes>"
      ]
     },
     "metadata": {
      "needs_background": "light"
     },
     "output_type": "display_data"
    }
   ],
   "source": [
    "f, ax = plt.subplots(figsize=(8, 6))\n",
    "sns.boxplot(x=\"Emotional condition\", y=\"E_avg\", hue=\"Bot condition\", data=df)\n",
    "plt.show()"
   ]
  },
  {
   "cell_type": "markdown",
   "id": "f6cb076e",
   "metadata": {},
   "source": [
    "4.Liking"
   ]
  },
  {
   "cell_type": "code",
   "execution_count": 47,
   "id": "13554aa8",
   "metadata": {},
   "outputs": [],
   "source": [
    "df['Q21_1'] = df['Q21_1'].map({6:1, 7:2, 8:3, 9:4, 10:5})\n",
    "df['Q21_2'] = df['Q21_2'].map({6:1, 7:2, 8:3, 9:4, 10:5})\n",
    "df['Q21_3'] = df['Q21_3'].map({6:1, 7:2, 8:3, 9:4, 10:5})"
   ]
  },
  {
   "cell_type": "code",
   "execution_count": 48,
   "id": "10544bb9",
   "metadata": {},
   "outputs": [],
   "source": [
    "df['Q21_4'] = df['Q21_4'].map({10:1, 9:2, 8:3, 7:4, 6:5})"
   ]
  },
  {
   "cell_type": "code",
   "execution_count": 49,
   "id": "5ad3425c",
   "metadata": {},
   "outputs": [
    {
     "data": {
      "text/plain": [
       "0      2.75\n",
       "1      4.00\n",
       "2      2.50\n",
       "3      4.00\n",
       "4      1.00\n",
       "       ... \n",
       "148    1.75\n",
       "149    1.00\n",
       "150    5.00\n",
       "151    2.25\n",
       "152    4.75\n",
       "Name: L_avg, Length: 148, dtype: float64"
      ]
     },
     "execution_count": 49,
     "metadata": {},
     "output_type": "execute_result"
    }
   ],
   "source": [
    "df['L_avg'] = df[['Q21_1','Q21_2','Q21_3','Q21_4']].mean(axis=1)\n",
    "df['L_avg']"
   ]
  },
  {
   "cell_type": "code",
   "execution_count": 50,
   "id": "81c1741f",
   "metadata": {},
   "outputs": [
    {
     "data": {
      "text/html": [
       "<table class=\"simpletable\">\n",
       "<tr>\n",
       "         <td></td>            <th>coef</th>     <th>std err</th>      <th>t</th>      <th>P>|t|</th>  <th>[0.025</th>    <th>0.975]</th>  \n",
       "</tr>\n",
       "<tr>\n",
       "  <th>Intercept</th>       <td>    3.7541</td> <td>    0.756</td> <td>    4.963</td> <td> 0.000</td> <td>    2.259</td> <td>    5.249</td>\n",
       "</tr>\n",
       "<tr>\n",
       "  <th>affect_mani</th>     <td>    0.1434</td> <td>    0.347</td> <td>    0.413</td> <td> 0.680</td> <td>   -0.542</td> <td>    0.829</td>\n",
       "</tr>\n",
       "<tr>\n",
       "  <th>bot</th>             <td>   -0.4067</td> <td>    0.463</td> <td>   -0.878</td> <td> 0.382</td> <td>   -1.323</td> <td>    0.509</td>\n",
       "</tr>\n",
       "<tr>\n",
       "  <th>affect_mani:bot</th> <td>   -0.0854</td> <td>    0.214</td> <td>   -0.400</td> <td> 0.690</td> <td>   -0.508</td> <td>    0.337</td>\n",
       "</tr>\n",
       "</table>"
      ],
      "text/plain": [
       "<class 'statsmodels.iolib.table.SimpleTable'>"
      ]
     },
     "execution_count": 50,
     "metadata": {},
     "output_type": "execute_result"
    }
   ],
   "source": [
    "model = ols('L_avg ~ affect_mani + bot + affect_mani:bot', data=df).fit()\n",
    "sm.stats.anova_lm(model, typ=2)\n",
    "summary = model.summary()\n",
    "summary.tables[1]"
   ]
  },
  {
   "cell_type": "code",
   "execution_count": 51,
   "id": "c729baad",
   "metadata": {
    "scrolled": true
   },
   "outputs": [
    {
     "data": {
      "text/html": [
       "<table class=\"simpletable\">\n",
       "<tr>\n",
       "         <td></td>            <th>coef</th>     <th>std err</th>      <th>t</th>      <th>P>|t|</th>  <th>[0.025</th>    <th>0.975]</th>  \n",
       "</tr>\n",
       "<tr>\n",
       "  <th>Intercept</th>       <td>    3.7541</td> <td>    0.756</td> <td>    4.963</td> <td> 0.000</td> <td>    2.259</td> <td>    5.249</td>\n",
       "</tr>\n",
       "<tr>\n",
       "  <th>affect_mani</th>     <td>    0.1434</td> <td>    0.347</td> <td>    0.413</td> <td> 0.680</td> <td>   -0.542</td> <td>    0.829</td>\n",
       "</tr>\n",
       "<tr>\n",
       "  <th>bot</th>             <td>   -0.4067</td> <td>    0.463</td> <td>   -0.878</td> <td> 0.382</td> <td>   -1.323</td> <td>    0.509</td>\n",
       "</tr>\n",
       "<tr>\n",
       "  <th>affect_mani:bot</th> <td>   -0.0854</td> <td>    0.214</td> <td>   -0.400</td> <td> 0.690</td> <td>   -0.508</td> <td>    0.337</td>\n",
       "</tr>\n",
       "</table>"
      ],
      "text/plain": [
       "<class 'statsmodels.iolib.table.SimpleTable'>"
      ]
     },
     "execution_count": 51,
     "metadata": {},
     "output_type": "execute_result"
    }
   ],
   "source": [
    "model_interaction = smf.ols(formula='L_avg ~ affect_mani + bot + affect_mani:bot', data=df).fit()\n",
    "summary = model_interaction.summary()\n",
    "summary.tables[1]"
   ]
  },
  {
   "cell_type": "code",
   "execution_count": 52,
   "id": "c5b378bc",
   "metadata": {},
   "outputs": [
    {
     "data": {
      "image/png": "[encoded data removed]",
      "text/plain": [
       "<Figure size 576x432 with 1 Axes>"
      ]
     },
     "metadata": {
      "needs_background": "light"
     },
     "output_type": "display_data"
    }
   ],
   "source": [
    "f, ax = plt.subplots(figsize=(8, 6))\n",
    "sns.boxplot(x=\"Emotional condition\", y=\"L_avg\", hue=\"Bot condition\", data=df)\n",
    "plt.show()"
   ]
  },
  {
   "cell_type": "markdown",
   "id": "faa43b58",
   "metadata": {},
   "source": [
    "\n",
    "5.Perspective Taking\n"
   ]
  },
  {
   "cell_type": "code",
   "execution_count": 53,
   "id": "694f436e",
   "metadata": {},
   "outputs": [],
   "source": [
    "df1['Q22_1'] = df['Q22_1'].map({6:1, 7:2, 8:3, 9:4, 10:5})\n",
    "df1['Q22_2'] = df['Q22_2'].map({6:1, 7:2, 8:3, 9:4, 10:5})\n",
    "df1['Q22_3'] = df['Q22_3'].map({6:1, 7:2, 8:3, 9:4, 10:5})"
   ]
  },
  {
   "cell_type": "code",
   "execution_count": 54,
   "id": "0d819762",
   "metadata": {},
   "outputs": [
    {
     "data": {
      "text/plain": [
       "0      1.333333\n",
       "1      2.000000\n",
       "2      1.666667\n",
       "3      3.000000\n",
       "4      1.000000\n",
       "         ...   \n",
       "148    1.000000\n",
       "149    1.000000\n",
       "150    4.000000\n",
       "151    1.333333\n",
       "152    3.666667\n",
       "Name: PT_avg, Length: 148, dtype: float64"
      ]
     },
     "execution_count": 54,
     "metadata": {},
     "output_type": "execute_result"
    }
   ],
   "source": [
    "df['PT_avg'] = df1[['Q22_1','Q22_2','Q22_3']].mean(axis=1)\n",
    "df['PT_avg']"
   ]
  },
  {
   "cell_type": "code",
   "execution_count": 55,
   "id": "f5d40225",
   "metadata": {},
   "outputs": [
    {
     "data": {
      "text/html": [
       "<table class=\"simpletable\">\n",
       "<tr>\n",
       "         <td></td>            <th>coef</th>     <th>std err</th>      <th>t</th>      <th>P>|t|</th>  <th>[0.025</th>    <th>0.975]</th>  \n",
       "</tr>\n",
       "<tr>\n",
       "  <th>Intercept</th>       <td>    3.0407</td> <td>    0.752</td> <td>    4.046</td> <td> 0.000</td> <td>    1.555</td> <td>    4.526</td>\n",
       "</tr>\n",
       "<tr>\n",
       "  <th>affect_mani</th>     <td>   -0.2548</td> <td>    0.345</td> <td>   -0.739</td> <td> 0.461</td> <td>   -0.936</td> <td>    0.427</td>\n",
       "</tr>\n",
       "<tr>\n",
       "  <th>bot</th>             <td>   -0.6719</td> <td>    0.460</td> <td>   -1.459</td> <td> 0.147</td> <td>   -1.582</td> <td>    0.238</td>\n",
       "</tr>\n",
       "<tr>\n",
       "  <th>affect_mani:bot</th> <td>    0.1547</td> <td>    0.212</td> <td>    0.729</td> <td> 0.467</td> <td>   -0.265</td> <td>    0.574</td>\n",
       "</tr>\n",
       "</table>"
      ],
      "text/plain": [
       "<class 'statsmodels.iolib.table.SimpleTable'>"
      ]
     },
     "execution_count": 55,
     "metadata": {},
     "output_type": "execute_result"
    }
   ],
   "source": [
    "model = ols('PT_avg ~ affect_mani + bot + affect_mani:bot', data=df).fit()\n",
    "sm.stats.anova_lm(model, typ=2)\n",
    "summary = model.summary()\n",
    "summary.tables[1]"
   ]
  },
  {
   "cell_type": "code",
   "execution_count": 56,
   "id": "887208a1",
   "metadata": {},
   "outputs": [
    {
     "data": {
      "text/html": [
       "<table class=\"simpletable\">\n",
       "<tr>\n",
       "         <td></td>            <th>coef</th>     <th>std err</th>      <th>t</th>      <th>P>|t|</th>  <th>[0.025</th>    <th>0.975]</th>  \n",
       "</tr>\n",
       "<tr>\n",
       "  <th>Intercept</th>       <td>    3.0407</td> <td>    0.752</td> <td>    4.046</td> <td> 0.000</td> <td>    1.555</td> <td>    4.526</td>\n",
       "</tr>\n",
       "<tr>\n",
       "  <th>affect_mani</th>     <td>   -0.2548</td> <td>    0.345</td> <td>   -0.739</td> <td> 0.461</td> <td>   -0.936</td> <td>    0.427</td>\n",
       "</tr>\n",
       "<tr>\n",
       "  <th>bot</th>             <td>   -0.6719</td> <td>    0.460</td> <td>   -1.459</td> <td> 0.147</td> <td>   -1.582</td> <td>    0.238</td>\n",
       "</tr>\n",
       "<tr>\n",
       "  <th>affect_mani:bot</th> <td>    0.1547</td> <td>    0.212</td> <td>    0.729</td> <td> 0.467</td> <td>   -0.265</td> <td>    0.574</td>\n",
       "</tr>\n",
       "</table>"
      ],
      "text/plain": [
       "<class 'statsmodels.iolib.table.SimpleTable'>"
      ]
     },
     "execution_count": 56,
     "metadata": {},
     "output_type": "execute_result"
    }
   ],
   "source": [
    "model_interaction = smf.ols(formula='PT_avg ~ affect_mani + bot + affect_mani:bot', data=df).fit()\n",
    "summary = model_interaction.summary()\n",
    "summary.tables[1]"
   ]
  },
  {
   "cell_type": "code",
   "execution_count": 57,
   "id": "850956f9",
   "metadata": {},
   "outputs": [
    {
     "data": {
      "image/png": "[encoded data removed]",
      "text/plain": [
       "<Figure size 576x432 with 1 Axes>"
      ]
     },
     "metadata": {
      "needs_background": "light"
     },
     "output_type": "display_data"
    }
   ],
   "source": [
    "f, ax = plt.subplots(figsize=(8, 6))\n",
    "sns.boxplot(x=\"Emotional condition\", y=\"PT_avg\", hue=\"Bot condition\", data=df)\n",
    "plt.show()"
   ]
  },
  {
   "cell_type": "markdown",
   "id": "5f87036d",
   "metadata": {},
   "source": [
    "Empathy\n"
   ]
  },
  {
   "cell_type": "code",
   "execution_count": 58,
   "id": "ef3c64aa",
   "metadata": {},
   "outputs": [],
   "source": [
    "df1['Q23_1'] = df['Q23_1'].map({6:1, 7:2, 8:3, 9:4, 10:5})\n",
    "df1['Q23_2'] = df['Q23_2'].map({6:1, 7:2, 8:3, 9:4, 10:5})\n",
    "df1['Q23_3'] = df['Q23_3'].map({6:1, 7:2, 8:3, 9:4, 10:5})"
   ]
  },
  {
   "cell_type": "code",
   "execution_count": 59,
   "id": "73e2a230",
   "metadata": {},
   "outputs": [
    {
     "data": {
      "text/plain": [
       "0      4.000000\n",
       "1      2.000000\n",
       "2      4.333333\n",
       "3      4.000000\n",
       "4      1.000000\n",
       "         ...   \n",
       "148    4.000000\n",
       "149    1.000000\n",
       "150    4.000000\n",
       "151    1.666667\n",
       "152    5.000000\n",
       "Name: Em_avg, Length: 148, dtype: float64"
      ]
     },
     "execution_count": 59,
     "metadata": {},
     "output_type": "execute_result"
    }
   ],
   "source": [
    "df['Em_avg'] = df1[['Q23_1','Q23_2','Q23_3']].mean(axis=1)\n",
    "df['Em_avg']"
   ]
  },
  {
   "cell_type": "code",
   "execution_count": 60,
   "id": "fec024b8",
   "metadata": {
    "scrolled": true
   },
   "outputs": [
    {
     "data": {
      "text/html": [
       "<table class=\"simpletable\">\n",
       "<tr>\n",
       "         <td></td>            <th>coef</th>     <th>std err</th>      <th>t</th>      <th>P>|t|</th>  <th>[0.025</th>    <th>0.975]</th>  \n",
       "</tr>\n",
       "<tr>\n",
       "  <th>Intercept</th>       <td>    4.8585</td> <td>    0.716</td> <td>    6.785</td> <td> 0.000</td> <td>    3.443</td> <td>    6.274</td>\n",
       "</tr>\n",
       "<tr>\n",
       "  <th>affect_mani</th>     <td>    0.2265</td> <td>    0.328</td> <td>    0.689</td> <td> 0.492</td> <td>   -0.423</td> <td>    0.876</td>\n",
       "</tr>\n",
       "<tr>\n",
       "  <th>bot</th>             <td>   -1.3848</td> <td>    0.439</td> <td>   -3.157</td> <td> 0.002</td> <td>   -2.252</td> <td>   -0.518</td>\n",
       "</tr>\n",
       "<tr>\n",
       "  <th>affect_mani:bot</th> <td>   -0.0648</td> <td>    0.202</td> <td>   -0.320</td> <td> 0.749</td> <td>   -0.465</td> <td>    0.335</td>\n",
       "</tr>\n",
       "</table>"
      ],
      "text/plain": [
       "<class 'statsmodels.iolib.table.SimpleTable'>"
      ]
     },
     "execution_count": 60,
     "metadata": {},
     "output_type": "execute_result"
    }
   ],
   "source": [
    "model = ols('Em_avg ~ affect_mani + bot + affect_mani:bot', data=df).fit()\n",
    "sm.stats.anova_lm(model, typ=2)\n",
    "summary = model.summary()\n",
    "summary.tables[1]"
   ]
  },
  {
   "cell_type": "code",
   "execution_count": 61,
   "id": "18287280",
   "metadata": {},
   "outputs": [
    {
     "data": {
      "text/html": [
       "<table class=\"simpletable\">\n",
       "<tr>\n",
       "         <td></td>            <th>coef</th>     <th>std err</th>      <th>t</th>      <th>P>|t|</th>  <th>[0.025</th>    <th>0.975]</th>  \n",
       "</tr>\n",
       "<tr>\n",
       "  <th>Intercept</th>       <td>    4.8585</td> <td>    0.716</td> <td>    6.785</td> <td> 0.000</td> <td>    3.443</td> <td>    6.274</td>\n",
       "</tr>\n",
       "<tr>\n",
       "  <th>affect_mani</th>     <td>    0.2265</td> <td>    0.328</td> <td>    0.689</td> <td> 0.492</td> <td>   -0.423</td> <td>    0.876</td>\n",
       "</tr>\n",
       "<tr>\n",
       "  <th>bot</th>             <td>   -1.3848</td> <td>    0.439</td> <td>   -3.157</td> <td> 0.002</td> <td>   -2.252</td> <td>   -0.518</td>\n",
       "</tr>\n",
       "<tr>\n",
       "  <th>affect_mani:bot</th> <td>   -0.0648</td> <td>    0.202</td> <td>   -0.320</td> <td> 0.749</td> <td>   -0.465</td> <td>    0.335</td>\n",
       "</tr>\n",
       "</table>"
      ],
      "text/plain": [
       "<class 'statsmodels.iolib.table.SimpleTable'>"
      ]
     },
     "execution_count": 61,
     "metadata": {},
     "output_type": "execute_result"
    }
   ],
   "source": [
    "model_interaction = smf.ols(formula='Em_avg ~ affect_mani + bot + affect_mani:bot', data=df).fit()\n",
    "summary = model_interaction.summary()\n",
    "summary.tables[1]"
   ]
  },
  {
   "cell_type": "code",
   "execution_count": 62,
   "id": "b70a1247",
   "metadata": {},
   "outputs": [
    {
     "data": {
      "image/png": "[encoded data removed]",
      "text/plain": [
       "<Figure size 576x432 with 1 Axes>"
      ]
     },
     "metadata": {
      "needs_background": "light"
     },
     "output_type": "display_data"
    }
   ],
   "source": [
    "f, ax = plt.subplots(figsize=(8, 6))\n",
    "sns.boxplot(x=\"Emotional condition\", y=\"Em_avg\", hue=\"Bot condition\", data=df)\n",
    "plt.show()"
   ]
  },
  {
   "cell_type": "markdown",
   "id": "40e602d4",
   "metadata": {},
   "source": [
    "7.Trust"
   ]
  },
  {
   "cell_type": "code",
   "execution_count": 63,
   "id": "b1c3a948",
   "metadata": {},
   "outputs": [],
   "source": [
    "df1['Q26_1'] = df['Q26_1'].map({3:1, 5:2, 6:3, 7:4, 8:5})\n",
    "df1['Q26_2'] = df['Q26_2'].map({3:1, 5:2, 6:3, 7:4, 8:5})\n",
    "df1['Q26_3'] = df['Q26_3'].map({3:1, 5:2, 6:3, 7:4, 8:5})\n",
    "df['Q26_4'] = df['Q26_4'].map({3:1, 5:2, 6:3, 7:4, 8:5})\n",
    "df['Q26_5'] = df['Q26_5'].map({3:1, 5:2, 6:3, 7:4, 8:5})\n",
    "df['Q26_6'] = df['Q26_6'].map({3:1, 5:2, 6:3, 7:4, 8:5})"
   ]
  },
  {
   "cell_type": "code",
   "execution_count": 64,
   "id": "a94b1d19",
   "metadata": {},
   "outputs": [],
   "source": [
    "df['Q26_1'] = df1['Q26_1'].map({1:5, 2:4, 3:3, 4:2, 5:1})\n",
    "df['Q26_2'] = df1['Q26_2'].map({1:5, 2:4, 3:3, 4:2, 5:1})\n",
    "df['Q26_3'] = df1['Q26_3'].map({1:5, 2:4, 3:3, 4:2, 5:1})"
   ]
  },
  {
   "cell_type": "code",
   "execution_count": 65,
   "id": "1551d8fb",
   "metadata": {},
   "outputs": [
    {
     "data": {
      "text/plain": [
       "0      3.636364\n",
       "1      3.727273\n",
       "2      3.090909\n",
       "3      3.272727\n",
       "4      1.545455\n",
       "         ...   \n",
       "148    1.727273\n",
       "149    1.818182\n",
       "150    3.545455\n",
       "151    2.363636\n",
       "152    3.727273\n",
       "Name: T_avg, Length: 148, dtype: float64"
      ]
     },
     "execution_count": 65,
     "metadata": {},
     "output_type": "execute_result"
    }
   ],
   "source": [
    "df['T_avg'] = df[['Q26_1','Q26_2','Q26_3','Q26_4','Q26_5','Q26_6','Q27_1','Q27_2','Q27_3','Q27_4','Q27_5']].mean(axis=1)\n",
    "df['T_avg']"
   ]
  },
  {
   "cell_type": "code",
   "execution_count": 66,
   "id": "f7a6f73e",
   "metadata": {},
   "outputs": [
    {
     "data": {
      "text/html": [
       "<table class=\"simpletable\">\n",
       "<tr>\n",
       "         <td></td>            <th>coef</th>     <th>std err</th>      <th>t</th>      <th>P>|t|</th>  <th>[0.025</th>    <th>0.975]</th>  \n",
       "</tr>\n",
       "<tr>\n",
       "  <th>Intercept</th>       <td>    3.7966</td> <td>    0.493</td> <td>    7.697</td> <td> 0.000</td> <td>    2.822</td> <td>    4.772</td>\n",
       "</tr>\n",
       "<tr>\n",
       "  <th>affect_mani</th>     <td>   -0.0983</td> <td>    0.226</td> <td>   -0.435</td> <td> 0.664</td> <td>   -0.546</td> <td>    0.349</td>\n",
       "</tr>\n",
       "<tr>\n",
       "  <th>bot</th>             <td>   -0.3245</td> <td>    0.302</td> <td>   -1.074</td> <td> 0.285</td> <td>   -0.922</td> <td>    0.273</td>\n",
       "</tr>\n",
       "<tr>\n",
       "  <th>affect_mani:bot</th> <td>    0.0385</td> <td>    0.139</td> <td>    0.276</td> <td> 0.783</td> <td>   -0.237</td> <td>    0.314</td>\n",
       "</tr>\n",
       "</table>"
      ],
      "text/plain": [
       "<class 'statsmodels.iolib.table.SimpleTable'>"
      ]
     },
     "execution_count": 66,
     "metadata": {},
     "output_type": "execute_result"
    }
   ],
   "source": [
    "model = ols('T_avg ~ affect_mani + bot + affect_mani:bot', data=df).fit()\n",
    "sm.stats.anova_lm(model, typ=2)\n",
    "summary = model.summary()\n",
    "summary.tables[1]"
   ]
  },
  {
   "cell_type": "code",
   "execution_count": 67,
   "id": "6b996b80",
   "metadata": {},
   "outputs": [
    {
     "data": {
      "text/html": [
       "<table class=\"simpletable\">\n",
       "<tr>\n",
       "         <td></td>            <th>coef</th>     <th>std err</th>      <th>t</th>      <th>P>|t|</th>  <th>[0.025</th>    <th>0.975]</th>  \n",
       "</tr>\n",
       "<tr>\n",
       "  <th>Intercept</th>       <td>    3.7966</td> <td>    0.493</td> <td>    7.697</td> <td> 0.000</td> <td>    2.822</td> <td>    4.772</td>\n",
       "</tr>\n",
       "<tr>\n",
       "  <th>affect_mani</th>     <td>   -0.0983</td> <td>    0.226</td> <td>   -0.435</td> <td> 0.664</td> <td>   -0.546</td> <td>    0.349</td>\n",
       "</tr>\n",
       "<tr>\n",
       "  <th>bot</th>             <td>   -0.3245</td> <td>    0.302</td> <td>   -1.074</td> <td> 0.285</td> <td>   -0.922</td> <td>    0.273</td>\n",
       "</tr>\n",
       "<tr>\n",
       "  <th>affect_mani:bot</th> <td>    0.0385</td> <td>    0.139</td> <td>    0.276</td> <td> 0.783</td> <td>   -0.237</td> <td>    0.314</td>\n",
       "</tr>\n",
       "</table>"
      ],
      "text/plain": [
       "<class 'statsmodels.iolib.table.SimpleTable'>"
      ]
     },
     "execution_count": 67,
     "metadata": {},
     "output_type": "execute_result"
    }
   ],
   "source": [
    "model_interaction = smf.ols(formula='T_avg ~ affect_mani + bot + affect_mani:bot', data=df).fit()\n",
    "summary = model_interaction.summary()\n",
    "summary.tables[1]"
   ]
  },
  {
   "cell_type": "code",
   "execution_count": 68,
   "id": "0dc7fcc9",
   "metadata": {},
   "outputs": [
    {
     "data": {
      "image/png": "[encoded data removed]",
      "text/plain": [
       "<Figure size 576x432 with 1 Axes>"
      ]
     },
     "metadata": {
      "needs_background": "light"
     },
     "output_type": "display_data"
    }
   ],
   "source": [
    "f, ax = plt.subplots(figsize=(8, 6))\n",
    "sns.boxplot(x=\"Emotional condition\", y=\"T_avg\", hue=\"Bot condition\", data=df)\n",
    "plt.show()"
   ]
  },
  {
   "cell_type": "markdown",
   "id": "8f40a47f",
   "metadata": {},
   "source": [
    "Expectancy Violation\n"
   ]
  },
  {
   "cell_type": "code",
   "execution_count": 69,
   "id": "ad9e7415",
   "metadata": {},
   "outputs": [],
   "source": [
    "df['Q24_5'] = df1['Q24_5'].map({1:5, 2:4, 3:3, 4:2, 5:1})\n",
    "df['Q24_2'] = df1['Q24_2'].map({1:5, 2:4, 3:3, 4:2, 5:1})\n",
    "df['Q24_3'] = df1['Q24_3'].map({1:5, 2:4, 3:3, 4:2, 5:1})"
   ]
  },
  {
   "cell_type": "code",
   "execution_count": 70,
   "id": "0825b6b3",
   "metadata": {},
   "outputs": [
    {
     "data": {
      "text/plain": [
       "0      3.4\n",
       "1      3.4\n",
       "2      2.8\n",
       "3      3.6\n",
       "4      2.2\n",
       "      ... \n",
       "148    3.2\n",
       "149    2.0\n",
       "150    2.8\n",
       "151    3.0\n",
       "152    3.4\n",
       "Name: Ex_avg, Length: 148, dtype: float64"
      ]
     },
     "execution_count": 70,
     "metadata": {},
     "output_type": "execute_result"
    }
   ],
   "source": [
    "df['Ex_avg'] = df1[['Q24_1','Q24_2','Q24_3','Q24_4','Q24_5']].mean(axis=1)\n",
    "df['Ex_avg']"
   ]
  },
  {
   "cell_type": "code",
   "execution_count": 71,
   "id": "493c535f",
   "metadata": {},
   "outputs": [
    {
     "data": {
      "text/html": [
       "<table class=\"simpletable\">\n",
       "<tr>\n",
       "         <td></td>            <th>coef</th>     <th>std err</th>      <th>t</th>      <th>P>|t|</th>  <th>[0.025</th>    <th>0.975]</th>  \n",
       "</tr>\n",
       "<tr>\n",
       "  <th>Intercept</th>       <td>    3.2452</td> <td>    0.275</td> <td>   11.818</td> <td> 0.000</td> <td>    2.702</td> <td>    3.788</td>\n",
       "</tr>\n",
       "<tr>\n",
       "  <th>affect_mani</th>     <td>   -0.0391</td> <td>    0.126</td> <td>   -0.310</td> <td> 0.757</td> <td>   -0.288</td> <td>    0.210</td>\n",
       "</tr>\n",
       "<tr>\n",
       "  <th>bot</th>             <td>   -0.0989</td> <td>    0.168</td> <td>   -0.588</td> <td> 0.558</td> <td>   -0.431</td> <td>    0.234</td>\n",
       "</tr>\n",
       "<tr>\n",
       "  <th>affect_mani:bot</th> <td>    0.0305</td> <td>    0.078</td> <td>    0.393</td> <td> 0.695</td> <td>   -0.123</td> <td>    0.184</td>\n",
       "</tr>\n",
       "</table>"
      ],
      "text/plain": [
       "<class 'statsmodels.iolib.table.SimpleTable'>"
      ]
     },
     "execution_count": 71,
     "metadata": {},
     "output_type": "execute_result"
    }
   ],
   "source": [
    "model = ols('Ex_avg ~ affect_mani + bot + affect_mani:bot', data=df).fit()\n",
    "sm.stats.anova_lm(model, typ=2)\n",
    "summary = model.summary()\n",
    "summary.tables[1]"
   ]
  },
  {
   "cell_type": "code",
   "execution_count": 72,
   "id": "ec949436",
   "metadata": {},
   "outputs": [
    {
     "data": {
      "text/html": [
       "<table class=\"simpletable\">\n",
       "<tr>\n",
       "         <td></td>            <th>coef</th>     <th>std err</th>      <th>t</th>      <th>P>|t|</th>  <th>[0.025</th>    <th>0.975]</th>  \n",
       "</tr>\n",
       "<tr>\n",
       "  <th>Intercept</th>       <td>    3.2452</td> <td>    0.275</td> <td>   11.818</td> <td> 0.000</td> <td>    2.702</td> <td>    3.788</td>\n",
       "</tr>\n",
       "<tr>\n",
       "  <th>affect_mani</th>     <td>   -0.0391</td> <td>    0.126</td> <td>   -0.310</td> <td> 0.757</td> <td>   -0.288</td> <td>    0.210</td>\n",
       "</tr>\n",
       "<tr>\n",
       "  <th>bot</th>             <td>   -0.0989</td> <td>    0.168</td> <td>   -0.588</td> <td> 0.558</td> <td>   -0.431</td> <td>    0.234</td>\n",
       "</tr>\n",
       "<tr>\n",
       "  <th>affect_mani:bot</th> <td>    0.0305</td> <td>    0.078</td> <td>    0.393</td> <td> 0.695</td> <td>   -0.123</td> <td>    0.184</td>\n",
       "</tr>\n",
       "</table>"
      ],
      "text/plain": [
       "<class 'statsmodels.iolib.table.SimpleTable'>"
      ]
     },
     "execution_count": 72,
     "metadata": {},
     "output_type": "execute_result"
    }
   ],
   "source": [
    "model_interaction = smf.ols(formula='Ex_avg ~ affect_mani + bot + affect_mani:bot', data=df).fit()\n",
    "summary = model_interaction.summary()\n",
    "summary.tables[1]"
   ]
  },
  {
   "cell_type": "code",
   "execution_count": 73,
   "id": "5a71ea69",
   "metadata": {},
   "outputs": [
    {
     "data": {
      "image/png": "[encoded data removed]",
      "text/plain": [
       "<Figure size 576x432 with 1 Axes>"
      ]
     },
     "metadata": {
      "needs_background": "light"
     },
     "output_type": "display_data"
    }
   ],
   "source": [
    "f, ax = plt.subplots(figsize=(8, 6))\n",
    "sns.boxplot(x=\"Emotional condition\", y=\"Ex_avg\", hue=\"Bot condition\", data=df)\n",
    "plt.show()"
   ]
  },
  {
   "cell_type": "markdown",
   "id": "bed9788d",
   "metadata": {},
   "source": [
    "Violation Valence\n"
   ]
  },
  {
   "cell_type": "code",
   "execution_count": 74,
   "id": "7594dfc4",
   "metadata": {},
   "outputs": [],
   "source": [
    "df['Q25_2'] = df1['Q25_2'].map({1:5, 2:4, 3:3, 4:2, 5:1})\n",
    "df['Q25_3'] = df1['Q25_3'].map({1:5, 2:4, 3:3, 4:2, 5:1})"
   ]
  },
  {
   "cell_type": "code",
   "execution_count": 75,
   "id": "5cce3665",
   "metadata": {},
   "outputs": [
    {
     "data": {
      "text/plain": [
       "0      2.8\n",
       "1      3.2\n",
       "2      3.0\n",
       "3      3.2\n",
       "4      3.0\n",
       "      ... \n",
       "148    2.4\n",
       "149    2.6\n",
       "150    3.4\n",
       "151    3.2\n",
       "152    3.4\n",
       "Name: vv_avg, Length: 148, dtype: float64"
      ]
     },
     "execution_count": 75,
     "metadata": {},
     "output_type": "execute_result"
    }
   ],
   "source": [
    "df['vv_avg'] = df1[['Q25_1','Q25_2','Q25_3','Q25_4','Q25_5']].mean(axis=1)\n",
    "df['vv_avg']"
   ]
  },
  {
   "cell_type": "code",
   "execution_count": 76,
   "id": "8cb765f4",
   "metadata": {},
   "outputs": [
    {
     "data": {
      "text/html": [
       "<table class=\"simpletable\">\n",
       "<tr>\n",
       "         <td></td>            <th>coef</th>     <th>std err</th>      <th>t</th>      <th>P>|t|</th>  <th>[0.025</th>    <th>0.975]</th>  \n",
       "</tr>\n",
       "<tr>\n",
       "  <th>Intercept</th>       <td>    2.7579</td> <td>    0.234</td> <td>   11.779</td> <td> 0.000</td> <td>    2.295</td> <td>    3.221</td>\n",
       "</tr>\n",
       "<tr>\n",
       "  <th>affect_mani</th>     <td>    0.1138</td> <td>    0.107</td> <td>    1.060</td> <td> 0.291</td> <td>   -0.098</td> <td>    0.326</td>\n",
       "</tr>\n",
       "<tr>\n",
       "  <th>bot</th>             <td>    0.0499</td> <td>    0.143</td> <td>    0.348</td> <td> 0.729</td> <td>   -0.234</td> <td>    0.333</td>\n",
       "</tr>\n",
       "<tr>\n",
       "  <th>affect_mani:bot</th> <td>   -0.0397</td> <td>    0.066</td> <td>   -0.601</td> <td> 0.549</td> <td>   -0.170</td> <td>    0.091</td>\n",
       "</tr>\n",
       "</table>"
      ],
      "text/plain": [
       "<class 'statsmodels.iolib.table.SimpleTable'>"
      ]
     },
     "execution_count": 76,
     "metadata": {},
     "output_type": "execute_result"
    }
   ],
   "source": [
    "model = ols('vv_avg ~ affect_mani + bot + affect_mani:bot', data=df).fit()\n",
    "sm.stats.anova_lm(model, typ=2)\n",
    "summary = model.summary()\n",
    "summary.tables[1]"
   ]
  },
  {
   "cell_type": "code",
   "execution_count": 77,
   "id": "9fcbe242",
   "metadata": {},
   "outputs": [
    {
     "data": {
      "text/html": [
       "<table class=\"simpletable\">\n",
       "<tr>\n",
       "         <td></td>            <th>coef</th>     <th>std err</th>      <th>t</th>      <th>P>|t|</th>  <th>[0.025</th>    <th>0.975]</th>  \n",
       "</tr>\n",
       "<tr>\n",
       "  <th>Intercept</th>       <td>    2.7579</td> <td>    0.234</td> <td>   11.779</td> <td> 0.000</td> <td>    2.295</td> <td>    3.221</td>\n",
       "</tr>\n",
       "<tr>\n",
       "  <th>affect_mani</th>     <td>    0.1138</td> <td>    0.107</td> <td>    1.060</td> <td> 0.291</td> <td>   -0.098</td> <td>    0.326</td>\n",
       "</tr>\n",
       "<tr>\n",
       "  <th>bot</th>             <td>    0.0499</td> <td>    0.143</td> <td>    0.348</td> <td> 0.729</td> <td>   -0.234</td> <td>    0.333</td>\n",
       "</tr>\n",
       "<tr>\n",
       "  <th>affect_mani:bot</th> <td>   -0.0397</td> <td>    0.066</td> <td>   -0.601</td> <td> 0.549</td> <td>   -0.170</td> <td>    0.091</td>\n",
       "</tr>\n",
       "</table>"
      ],
      "text/plain": [
       "<class 'statsmodels.iolib.table.SimpleTable'>"
      ]
     },
     "execution_count": 77,
     "metadata": {},
     "output_type": "execute_result"
    }
   ],
   "source": [
    "model_interaction = smf.ols(formula='vv_avg ~ affect_mani + bot + affect_mani:bot', data=df).fit()\n",
    "summary = model_interaction.summary()\n",
    "summary.tables[1]"
   ]
  },
  {
   "cell_type": "code",
   "execution_count": 78,
   "id": "f3b31fa1",
   "metadata": {},
   "outputs": [
    {
     "data": {
      "image/png": "[encoded data removed]",
      "text/plain": [
       "<Figure size 576x432 with 1 Axes>"
      ]
     },
     "metadata": {
      "needs_background": "light"
     },
     "output_type": "display_data"
    }
   ],
   "source": [
    "f, ax = plt.subplots(figsize=(8, 6))\n",
    "sns.boxplot(x=\"Emotional condition\", y=\"vv_avg\", hue=\"Bot condition\", data=df)\n",
    "plt.show()"
   ]
  },
  {
   "cell_type": "markdown",
   "id": "edef19f8",
   "metadata": {},
   "source": [
    "Enjoyment"
   ]
  },
  {
   "cell_type": "code",
   "execution_count": 79,
   "id": "2539c318",
   "metadata": {},
   "outputs": [
    {
     "data": {
      "text/plain": [
       "0      2.000000\n",
       "1      4.333333\n",
       "2      1.666667\n",
       "3      4.000000\n",
       "4      1.000000\n",
       "         ...   \n",
       "148    1.333333\n",
       "149    1.000000\n",
       "150    4.666667\n",
       "151    1.000000\n",
       "152    5.000000\n",
       "Name: IE_avg, Length: 148, dtype: float64"
      ]
     },
     "execution_count": 79,
     "metadata": {},
     "output_type": "execute_result"
    }
   ],
   "source": [
    "df['IE_avg'] = df1[['Q28_1','Q28_2','Q28_3']].mean(axis=1)\n",
    "df['IE_avg']"
   ]
  },
  {
   "cell_type": "code",
   "execution_count": 80,
   "id": "015b6606",
   "metadata": {},
   "outputs": [
    {
     "data": {
      "text/html": [
       "<table class=\"simpletable\">\n",
       "<tr>\n",
       "         <td></td>            <th>coef</th>     <th>std err</th>      <th>t</th>      <th>P>|t|</th>  <th>[0.025</th>    <th>0.975]</th>  \n",
       "</tr>\n",
       "<tr>\n",
       "  <th>Intercept</th>       <td>    3.6740</td> <td>    0.905</td> <td>    4.059</td> <td> 0.000</td> <td>    1.885</td> <td>    5.463</td>\n",
       "</tr>\n",
       "<tr>\n",
       "  <th>affect_mani</th>     <td>    0.0295</td> <td>    0.415</td> <td>    0.071</td> <td> 0.943</td> <td>   -0.791</td> <td>    0.850</td>\n",
       "</tr>\n",
       "<tr>\n",
       "  <th>bot</th>             <td>   -0.5937</td> <td>    0.554</td> <td>   -1.071</td> <td> 0.286</td> <td>   -1.690</td> <td>    0.502</td>\n",
       "</tr>\n",
       "<tr>\n",
       "  <th>affect_mani:bot</th> <td>    0.0050</td> <td>    0.256</td> <td>    0.019</td> <td> 0.985</td> <td>   -0.500</td> <td>    0.510</td>\n",
       "</tr>\n",
       "</table>"
      ],
      "text/plain": [
       "<class 'statsmodels.iolib.table.SimpleTable'>"
      ]
     },
     "execution_count": 80,
     "metadata": {},
     "output_type": "execute_result"
    }
   ],
   "source": [
    "model = ols('IE_avg ~ affect_mani + bot + affect_mani:bot', data=df).fit()\n",
    "sm.stats.anova_lm(model, typ=2)\n",
    "summary = model.summary()\n",
    "summary.tables[1]"
   ]
  },
  {
   "cell_type": "code",
   "execution_count": 81,
   "id": "755616bc",
   "metadata": {},
   "outputs": [
    {
     "data": {
      "text/html": [
       "<table class=\"simpletable\">\n",
       "<tr>\n",
       "         <td></td>            <th>coef</th>     <th>std err</th>      <th>t</th>      <th>P>|t|</th>  <th>[0.025</th>    <th>0.975]</th>  \n",
       "</tr>\n",
       "<tr>\n",
       "  <th>Intercept</th>       <td>    3.6740</td> <td>    0.905</td> <td>    4.059</td> <td> 0.000</td> <td>    1.885</td> <td>    5.463</td>\n",
       "</tr>\n",
       "<tr>\n",
       "  <th>affect_mani</th>     <td>    0.0295</td> <td>    0.415</td> <td>    0.071</td> <td> 0.943</td> <td>   -0.791</td> <td>    0.850</td>\n",
       "</tr>\n",
       "<tr>\n",
       "  <th>bot</th>             <td>   -0.5937</td> <td>    0.554</td> <td>   -1.071</td> <td> 0.286</td> <td>   -1.690</td> <td>    0.502</td>\n",
       "</tr>\n",
       "<tr>\n",
       "  <th>affect_mani:bot</th> <td>    0.0050</td> <td>    0.256</td> <td>    0.019</td> <td> 0.985</td> <td>   -0.500</td> <td>    0.510</td>\n",
       "</tr>\n",
       "</table>"
      ],
      "text/plain": [
       "<class 'statsmodels.iolib.table.SimpleTable'>"
      ]
     },
     "execution_count": 81,
     "metadata": {},
     "output_type": "execute_result"
    }
   ],
   "source": [
    "model_interaction = smf.ols(formula='IE_avg ~ affect_mani + bot + affect_mani:bot', data=df).fit()\n",
    "summary = model_interaction.summary()\n",
    "summary.tables[1]"
   ]
  },
  {
   "cell_type": "code",
   "execution_count": 82,
   "id": "9eb7de9c",
   "metadata": {},
   "outputs": [
    {
     "data": {
      "image/png": "[encoded data removed]",
      "text/plain": [
       "<Figure size 576x432 with 1 Axes>"
      ]
     },
     "metadata": {
      "needs_background": "light"
     },
     "output_type": "display_data"
    }
   ],
   "source": [
    "f, ax = plt.subplots(figsize=(8, 6))\n",
    "sns.boxplot(x=\"Emotional condition\", y=\"IE_avg\", hue=\"Bot condition\", data=df)\n",
    "plt.show()"
   ]
  },
  {
   "cell_type": "markdown",
   "id": "43e35d26",
   "metadata": {},
   "source": [
    "Chatbot Knowledge"
   ]
  },
  {
   "cell_type": "code",
   "execution_count": 98,
   "id": "5e994f6f",
   "metadata": {},
   "outputs": [
    {
     "data": {
      "text/plain": [
       "(0.09982935153583639, array([-0.239,  0.346]))"
      ]
     },
     "execution_count": 98,
     "metadata": {},
     "output_type": "execute_result"
    }
   ],
   "source": [
    "AIKnowledge=df1[['Q29_1','Q29_2']]\n",
    "pg.cronbach_alpha(data=AIKnowledge)"
   ]
  },
  {
   "cell_type": "code",
   "execution_count": 84,
   "id": "6b94635f",
   "metadata": {},
   "outputs": [
    {
     "data": {
      "text/plain": [
       "0      4.5\n",
       "1      3.5\n",
       "2      3.5\n",
       "3      4.0\n",
       "4      5.0\n",
       "      ... \n",
       "148    4.0\n",
       "149    3.0\n",
       "150    4.0\n",
       "151    4.0\n",
       "152    5.0\n",
       "Name: AI_avg, Length: 148, dtype: float64"
      ]
     },
     "execution_count": 84,
     "metadata": {},
     "output_type": "execute_result"
    }
   ],
   "source": [
    "df['AI_avg'] = df1[['Q29_1','Q29_2']].mean(axis=1)\n",
    "df['AI_avg']"
   ]
  },
  {
   "cell_type": "code",
   "execution_count": 85,
   "id": "4d01716b",
   "metadata": {},
   "outputs": [
    {
     "data": {
      "text/html": [
       "<table class=\"simpletable\">\n",
       "<tr>\n",
       "         <td></td>            <th>coef</th>     <th>std err</th>      <th>t</th>      <th>P>|t|</th>  <th>[0.025</th>    <th>0.975]</th>  \n",
       "</tr>\n",
       "<tr>\n",
       "  <th>Intercept</th>       <td>    3.4431</td> <td>    0.473</td> <td>    7.278</td> <td> 0.000</td> <td>    2.508</td> <td>    4.378</td>\n",
       "</tr>\n",
       "<tr>\n",
       "  <th>affect_mani</th>     <td>    0.5488</td> <td>    0.217</td> <td>    2.528</td> <td> 0.013</td> <td>    0.120</td> <td>    0.978</td>\n",
       "</tr>\n",
       "<tr>\n",
       "  <th>bot</th>             <td>    0.4068</td> <td>    0.290</td> <td>    1.404</td> <td> 0.163</td> <td>   -0.166</td> <td>    0.980</td>\n",
       "</tr>\n",
       "<tr>\n",
       "  <th>affect_mani:bot</th> <td>   -0.3242</td> <td>    0.134</td> <td>   -2.426</td> <td> 0.016</td> <td>   -0.588</td> <td>   -0.060</td>\n",
       "</tr>\n",
       "</table>"
      ],
      "text/plain": [
       "<class 'statsmodels.iolib.table.SimpleTable'>"
      ]
     },
     "execution_count": 85,
     "metadata": {},
     "output_type": "execute_result"
    }
   ],
   "source": [
    "model = ols('AI_avg ~ affect_mani + bot + affect_mani:bot', data=df).fit()\n",
    "sm.stats.anova_lm(model, typ=2)\n",
    "summary = model.summary()\n",
    "summary.tables[1]"
   ]
  },
  {
   "cell_type": "code",
   "execution_count": 86,
   "id": "702289fb",
   "metadata": {},
   "outputs": [
    {
     "data": {
      "text/html": [
       "<table class=\"simpletable\">\n",
       "<tr>\n",
       "         <td></td>            <th>coef</th>     <th>std err</th>      <th>t</th>      <th>P>|t|</th>  <th>[0.025</th>    <th>0.975]</th>  \n",
       "</tr>\n",
       "<tr>\n",
       "  <th>Intercept</th>       <td>    3.4431</td> <td>    0.473</td> <td>    7.278</td> <td> 0.000</td> <td>    2.508</td> <td>    4.378</td>\n",
       "</tr>\n",
       "<tr>\n",
       "  <th>affect_mani</th>     <td>    0.5488</td> <td>    0.217</td> <td>    2.528</td> <td> 0.013</td> <td>    0.120</td> <td>    0.978</td>\n",
       "</tr>\n",
       "<tr>\n",
       "  <th>bot</th>             <td>    0.4068</td> <td>    0.290</td> <td>    1.404</td> <td> 0.163</td> <td>   -0.166</td> <td>    0.980</td>\n",
       "</tr>\n",
       "<tr>\n",
       "  <th>affect_mani:bot</th> <td>   -0.3242</td> <td>    0.134</td> <td>   -2.426</td> <td> 0.016</td> <td>   -0.588</td> <td>   -0.060</td>\n",
       "</tr>\n",
       "</table>"
      ],
      "text/plain": [
       "<class 'statsmodels.iolib.table.SimpleTable'>"
      ]
     },
     "execution_count": 86,
     "metadata": {},
     "output_type": "execute_result"
    }
   ],
   "source": [
    "model_interaction = smf.ols(formula='AI_avg ~ affect_mani + bot + affect_mani:bot', data=df).fit()\n",
    "summary = model_interaction.summary()\n",
    "summary.tables[1]"
   ]
  },
  {
   "cell_type": "code",
   "execution_count": 87,
   "id": "e144ff51",
   "metadata": {},
   "outputs": [
    {
     "data": {
      "image/png": "[encoded data removed]",
      "text/plain": [
       "<Figure size 576x432 with 1 Axes>"
      ]
     },
     "metadata": {
      "needs_background": "light"
     },
     "output_type": "display_data"
    }
   ],
   "source": [
    "f, ax = plt.subplots(figsize=(8, 6))\n",
    "sns.boxplot(x=\"Emotional condition\", y=\"AI_avg\", hue=\"Bot condition\", data=df)\n",
    "plt.show()"
   ]
  },
  {
   "cell_type": "markdown",
   "id": "8663db36",
   "metadata": {},
   "source": [
    "Chatbot Usefulness"
   ]
  },
  {
   "cell_type": "code",
   "execution_count": 88,
   "id": "464cf721",
   "metadata": {},
   "outputs": [],
   "source": [
    "df['Q30'] = df['Q30'].map({2:1, 6:2, 7:3, 8:4, 9:5})"
   ]
  },
  {
   "cell_type": "code",
   "execution_count": 89,
   "id": "9a49b710",
   "metadata": {},
   "outputs": [
    {
     "data": {
      "text/plain": [
       "0      3.0\n",
       "1      3.0\n",
       "2      2.5\n",
       "3      4.0\n",
       "4      1.0\n",
       "      ... \n",
       "148    2.0\n",
       "149    2.0\n",
       "150    4.0\n",
       "151    2.5\n",
       "152    3.5\n",
       "Name: H_avg, Length: 148, dtype: float64"
      ]
     },
     "execution_count": 89,
     "metadata": {},
     "output_type": "execute_result"
    }
   ],
   "source": [
    "df['H_avg'] = df[['Q30','Q31']].mean(axis=1)\n",
    "df['H_avg']"
   ]
  },
  {
   "cell_type": "code",
   "execution_count": 90,
   "id": "d14fa5cc",
   "metadata": {},
   "outputs": [
    {
     "data": {
      "text/html": [
       "<table class=\"simpletable\">\n",
       "<tr>\n",
       "         <td></td>            <th>coef</th>     <th>std err</th>      <th>t</th>      <th>P>|t|</th>  <th>[0.025</th>    <th>0.975]</th>  \n",
       "</tr>\n",
       "<tr>\n",
       "  <th>Intercept</th>       <td>    3.6337</td> <td>    0.681</td> <td>    5.338</td> <td> 0.000</td> <td>    2.288</td> <td>    4.979</td>\n",
       "</tr>\n",
       "<tr>\n",
       "  <th>affect_mani</th>     <td>   -0.0752</td> <td>    0.312</td> <td>   -0.241</td> <td> 0.810</td> <td>   -0.692</td> <td>    0.542</td>\n",
       "</tr>\n",
       "<tr>\n",
       "  <th>bot</th>             <td>   -0.5319</td> <td>    0.417</td> <td>   -1.275</td> <td> 0.204</td> <td>   -1.356</td> <td>    0.292</td>\n",
       "</tr>\n",
       "<tr>\n",
       "  <th>affect_mani:bot</th> <td>    0.0790</td> <td>    0.192</td> <td>    0.411</td> <td> 0.682</td> <td>   -0.301</td> <td>    0.459</td>\n",
       "</tr>\n",
       "</table>"
      ],
      "text/plain": [
       "<class 'statsmodels.iolib.table.SimpleTable'>"
      ]
     },
     "execution_count": 90,
     "metadata": {},
     "output_type": "execute_result"
    }
   ],
   "source": [
    "model = ols('H_avg ~ affect_mani + bot + affect_mani:bot', data=df).fit()\n",
    "sm.stats.anova_lm(model, typ=2)\n",
    "summary = model.summary()\n",
    "summary.tables[1]"
   ]
  },
  {
   "cell_type": "code",
   "execution_count": 91,
   "id": "60b5e74c",
   "metadata": {},
   "outputs": [
    {
     "data": {
      "text/html": [
       "<table class=\"simpletable\">\n",
       "<tr>\n",
       "         <td></td>            <th>coef</th>     <th>std err</th>      <th>t</th>      <th>P>|t|</th>  <th>[0.025</th>    <th>0.975]</th>  \n",
       "</tr>\n",
       "<tr>\n",
       "  <th>Intercept</th>       <td>    3.6337</td> <td>    0.681</td> <td>    5.338</td> <td> 0.000</td> <td>    2.288</td> <td>    4.979</td>\n",
       "</tr>\n",
       "<tr>\n",
       "  <th>affect_mani</th>     <td>   -0.0752</td> <td>    0.312</td> <td>   -0.241</td> <td> 0.810</td> <td>   -0.692</td> <td>    0.542</td>\n",
       "</tr>\n",
       "<tr>\n",
       "  <th>bot</th>             <td>   -0.5319</td> <td>    0.417</td> <td>   -1.275</td> <td> 0.204</td> <td>   -1.356</td> <td>    0.292</td>\n",
       "</tr>\n",
       "<tr>\n",
       "  <th>affect_mani:bot</th> <td>    0.0790</td> <td>    0.192</td> <td>    0.411</td> <td> 0.682</td> <td>   -0.301</td> <td>    0.459</td>\n",
       "</tr>\n",
       "</table>"
      ],
      "text/plain": [
       "<class 'statsmodels.iolib.table.SimpleTable'>"
      ]
     },
     "execution_count": 91,
     "metadata": {},
     "output_type": "execute_result"
    }
   ],
   "source": [
    "model_interaction = smf.ols(formula='H_avg ~ affect_mani + bot + affect_mani:bot', data=df).fit()\n",
    "summary = model_interaction.summary()\n",
    "summary.tables[1]"
   ]
  },
  {
   "cell_type": "code",
   "execution_count": 92,
   "id": "485ff6be",
   "metadata": {},
   "outputs": [
    {
     "data": {
      "image/png": "[encoded data removed]",
      "text/plain": [
       "<Figure size 576x432 with 1 Axes>"
      ]
     },
     "metadata": {
      "needs_background": "light"
     },
     "output_type": "display_data"
    }
   ],
   "source": [
    "f, ax = plt.subplots(figsize=(8, 6))\n",
    "sns.boxplot(x=\"Emotional condition\", y=\"H_avg\", hue=\"Bot condition\", data=df)\n",
    "plt.show()"
   ]
  },
  {
   "cell_type": "markdown",
   "id": "c20aea03",
   "metadata": {},
   "source": [
    "Anthropomorphism"
   ]
  },
  {
   "cell_type": "code",
   "execution_count": 93,
   "id": "f26a54f4",
   "metadata": {},
   "outputs": [
    {
     "data": {
      "text/plain": [
       "0      3.2500\n",
       "1      3.9375\n",
       "2      2.7500\n",
       "3      2.7500\n",
       "4      1.8125\n",
       "        ...  \n",
       "148    2.8750\n",
       "149    3.0000\n",
       "150    2.3125\n",
       "151    3.7500\n",
       "152    2.5000\n",
       "Name: An_avg, Length: 148, dtype: float64"
      ]
     },
     "execution_count": 93,
     "metadata": {},
     "output_type": "execute_result"
    }
   ],
   "source": [
    "df['An_avg'] = df1[['Q32_1','Q32_2','Q32_3','Q32_4','Q32_5','Q33_1','Q33_3','Q33_4','Q33_5','Q33_6','Q34_2','Q34_4','Q34_5','Q34_6','Q34_7','Q34_8']].mean(axis=1)\n",
    "df['An_avg']"
   ]
  },
  {
   "cell_type": "code",
   "execution_count": 94,
   "id": "431050ba",
   "metadata": {},
   "outputs": [
    {
     "data": {
      "text/html": [
       "<table class=\"simpletable\">\n",
       "<tr>\n",
       "         <td></td>            <th>coef</th>     <th>std err</th>      <th>t</th>      <th>P>|t|</th>  <th>[0.025</th>    <th>0.975]</th>  \n",
       "</tr>\n",
       "<tr>\n",
       "  <th>Intercept</th>       <td>    1.8991</td> <td>    0.808</td> <td>    2.350</td> <td> 0.020</td> <td>    0.302</td> <td>    3.496</td>\n",
       "</tr>\n",
       "<tr>\n",
       "  <th>affect_mani</th>     <td>    0.4911</td> <td>    0.371</td> <td>    1.325</td> <td> 0.187</td> <td>   -0.242</td> <td>    1.224</td>\n",
       "</tr>\n",
       "<tr>\n",
       "  <th>bot</th>             <td>    1.0368</td> <td>    0.495</td> <td>    2.094</td> <td> 0.038</td> <td>    0.058</td> <td>    2.015</td>\n",
       "</tr>\n",
       "<tr>\n",
       "  <th>affect_mani:bot</th> <td>   -0.3917</td> <td>    0.228</td> <td>   -1.716</td> <td> 0.088</td> <td>   -0.843</td> <td>    0.059</td>\n",
       "</tr>\n",
       "</table>"
      ],
      "text/plain": [
       "<class 'statsmodels.iolib.table.SimpleTable'>"
      ]
     },
     "execution_count": 94,
     "metadata": {},
     "output_type": "execute_result"
    }
   ],
   "source": [
    "model = ols('An_avg ~ affect_mani + bot + affect_mani:bot', data=df).fit()\n",
    "sm.stats.anova_lm(model, typ=2)\n",
    "summary = model.summary()\n",
    "summary.tables[1]"
   ]
  },
  {
   "cell_type": "code",
   "execution_count": 95,
   "id": "ab4ea8f6",
   "metadata": {},
   "outputs": [
    {
     "data": {
      "text/html": [
       "<table class=\"simpletable\">\n",
       "<tr>\n",
       "         <td></td>            <th>coef</th>     <th>std err</th>      <th>t</th>      <th>P>|t|</th>  <th>[0.025</th>    <th>0.975]</th>  \n",
       "</tr>\n",
       "<tr>\n",
       "  <th>Intercept</th>       <td>    1.8991</td> <td>    0.808</td> <td>    2.350</td> <td> 0.020</td> <td>    0.302</td> <td>    3.496</td>\n",
       "</tr>\n",
       "<tr>\n",
       "  <th>affect_mani</th>     <td>    0.4911</td> <td>    0.371</td> <td>    1.325</td> <td> 0.187</td> <td>   -0.242</td> <td>    1.224</td>\n",
       "</tr>\n",
       "<tr>\n",
       "  <th>bot</th>             <td>    1.0368</td> <td>    0.495</td> <td>    2.094</td> <td> 0.038</td> <td>    0.058</td> <td>    2.015</td>\n",
       "</tr>\n",
       "<tr>\n",
       "  <th>affect_mani:bot</th> <td>   -0.3917</td> <td>    0.228</td> <td>   -1.716</td> <td> 0.088</td> <td>   -0.843</td> <td>    0.059</td>\n",
       "</tr>\n",
       "</table>"
      ],
      "text/plain": [
       "<class 'statsmodels.iolib.table.SimpleTable'>"
      ]
     },
     "execution_count": 95,
     "metadata": {},
     "output_type": "execute_result"
    }
   ],
   "source": [
    "model_interaction = smf.ols(formula='An_avg ~ affect_mani + bot + affect_mani:bot', data=df).fit()\n",
    "summary = model_interaction.summary()\n",
    "summary.tables[1]"
   ]
  },
  {
   "cell_type": "code",
   "execution_count": 96,
   "id": "15bfaac9",
   "metadata": {},
   "outputs": [
    {
     "data": {
      "image/png": "[encoded data removed]",
      "text/plain": [
       "<Figure size 576x432 with 1 Axes>"
      ]
     },
     "metadata": {
      "needs_background": "light"
     },
     "output_type": "display_data"
    }
   ],
   "source": [
    "f, ax = plt.subplots(figsize=(8, 6))\n",
    "sns.boxplot(x=\"Emotional condition\", y=\"An_avg\", hue=\"Bot condition\", data=df)\n",
    "plt.show()"
   ]
  }
 ],
 "metadata": {
  "kernelspec": {
   "display_name": "Python 3 (ipykernel)",
   "language": "python",
   "name": "python3"
  },
  "language_info": {
   "codemirror_mode": {
    "name": "ipython",
    "version": 3
   },
   "file_extension": ".py",
   "mimetype": "text/x-python",
   "name": "python",
   "nbconvert_exporter": "python",
   "pygments_lexer": "ipython3",
   "version": "3.8.13"
  }
 },
 "nbformat": 4,
 "nbformat_minor": 5
}
